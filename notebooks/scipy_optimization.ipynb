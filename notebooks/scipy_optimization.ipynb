{
 "cells": [
  {
   "cell_type": "code",
   "execution_count": 1,
   "metadata": {},
   "outputs": [],
   "source": [
    "import pandas as pd\n",
    "import numpy as np\n",
    "from scipy.optimize import minimize"
   ]
  },
  {
   "cell_type": "markdown",
   "metadata": {},
   "source": [
    "# Cost Supply Network Optimization"
   ]
  },
  {
   "cell_type": "markdown",
   "metadata": {},
   "source": [
    "### Problem Statement\n",
    "###### Come up with a best cost supply network (Which supplier which location should service which plants and what qty). It must optimize all constraints, satisfy the full demand at our locations.\n",
    "\n",
    "\n",
    "**Optimization Function**: Delivered cost = Base Cost + Freight Cost + Any taxes/duties\n",
    "##### Some additional Points to be taken care of\n",
    "* If BC Supply <19000 tons, then we incur a penalty of $125/MT\n",
    "* Supplies to China from outside of South East Asia, incurs an import duty of 15%\n",
    "* Suppliers to \"AP - China\" from outside of South East Asia, incurs an import duty of 18%\n",
    "* If EU is supplied from Asia based suppliers, there is an import duty of 8%.\n"
   ]
  },
  {
   "cell_type": "markdown",
   "metadata": {},
   "source": [
    "#### The first step is to open all data sources"
   ]
  },
  {
   "cell_type": "markdown",
   "metadata": {},
   "source": [
    "##### base_cost"
   ]
  },
  {
   "cell_type": "code",
   "execution_count": 2,
   "metadata": {},
   "outputs": [],
   "source": [
    "base_cost = pd.read_csv('../data/raw/base_cost.csv', sep=';', decimal=',', encoding='UTF-8')"
   ]
  },
  {
   "cell_type": "code",
   "execution_count": 3,
   "metadata": {},
   "outputs": [
    {
     "data": {
      "text/html": [
       "<div>\n",
       "<style scoped>\n",
       "    .dataframe tbody tr th:only-of-type {\n",
       "        vertical-align: middle;\n",
       "    }\n",
       "\n",
       "    .dataframe tbody tr th {\n",
       "        vertical-align: top;\n",
       "    }\n",
       "\n",
       "    .dataframe thead th {\n",
       "        text-align: right;\n",
       "    }\n",
       "</style>\n",
       "<table border=\"1\" class=\"dataframe\">\n",
       "  <thead>\n",
       "    <tr style=\"text-align: right;\">\n",
       "      <th></th>\n",
       "      <th>Location</th>\n",
       "      <th>Cost ($/MT)</th>\n",
       "    </tr>\n",
       "  </thead>\n",
       "  <tbody>\n",
       "    <tr>\n",
       "      <th>0</th>\n",
       "      <td>BC San Pedro</td>\n",
       "      <td>3496</td>\n",
       "    </tr>\n",
       "    <tr>\n",
       "      <th>1</th>\n",
       "      <td>BC Malaysia</td>\n",
       "      <td>3942</td>\n",
       "    </tr>\n",
       "    <tr>\n",
       "      <th>2</th>\n",
       "      <td>BC Pasir Gudang</td>\n",
       "      <td>3942</td>\n",
       "    </tr>\n",
       "    <tr>\n",
       "      <th>3</th>\n",
       "      <td>Olam Singapore</td>\n",
       "      <td>3836</td>\n",
       "    </tr>\n",
       "    <tr>\n",
       "      <th>4</th>\n",
       "      <td>Olam Holland</td>\n",
       "      <td>3278</td>\n",
       "    </tr>\n",
       "  </tbody>\n",
       "</table>\n",
       "</div>"
      ],
      "text/plain": [
       "          Location  Cost ($/MT)\n",
       "0     BC San Pedro         3496\n",
       "1      BC Malaysia         3942\n",
       "2  BC Pasir Gudang         3942\n",
       "3   Olam Singapore         3836\n",
       "4     Olam Holland         3278"
      ]
     },
     "execution_count": 3,
     "metadata": {},
     "output_type": "execute_result"
    }
   ],
   "source": [
    "base_cost"
   ]
  },
  {
   "cell_type": "markdown",
   "metadata": {},
   "source": [
    "This dataframe will be converted to a numpy array and transposed to ease the calculations"
   ]
  },
  {
   "cell_type": "code",
   "execution_count": 4,
   "metadata": {},
   "outputs": [],
   "source": [
    "base_cost=np.array((base_cost.values[:,1]),ndmin=2)"
   ]
  },
  {
   "cell_type": "code",
   "execution_count": 5,
   "metadata": {},
   "outputs": [
    {
     "data": {
      "text/plain": [
       "array([[3496, 3942, 3942, 3836, 3278]], dtype=object)"
      ]
     },
     "execution_count": 5,
     "metadata": {},
     "output_type": "execute_result"
    }
   ],
   "source": [
    "base_cost"
   ]
  },
  {
   "cell_type": "markdown",
   "metadata": {},
   "source": [
    "##### demand"
   ]
  },
  {
   "cell_type": "code",
   "execution_count": 6,
   "metadata": {},
   "outputs": [],
   "source": [
    "demand=pd.read_csv('../data/raw/demand.csv', sep=';', decimal=',', encoding='UTF-8')"
   ]
  },
  {
   "cell_type": "code",
   "execution_count": 7,
   "metadata": {},
   "outputs": [
    {
     "data": {
      "text/html": [
       "<div>\n",
       "<style scoped>\n",
       "    .dataframe tbody tr th:only-of-type {\n",
       "        vertical-align: middle;\n",
       "    }\n",
       "\n",
       "    .dataframe tbody tr th {\n",
       "        vertical-align: top;\n",
       "    }\n",
       "\n",
       "    .dataframe thead th {\n",
       "        text-align: right;\n",
       "    }\n",
       "</style>\n",
       "<table border=\"1\" class=\"dataframe\">\n",
       "  <thead>\n",
       "    <tr style=\"text-align: right;\">\n",
       "      <th></th>\n",
       "      <th>destiny</th>\n",
       "      <th>quantity</th>\n",
       "    </tr>\n",
       "  </thead>\n",
       "  <tbody>\n",
       "    <tr>\n",
       "      <th>0</th>\n",
       "      <td>East Coast BB</td>\n",
       "      <td>4080</td>\n",
       "    </tr>\n",
       "    <tr>\n",
       "      <th>1</th>\n",
       "      <td>East Coast SB</td>\n",
       "      <td>1121</td>\n",
       "    </tr>\n",
       "    <tr>\n",
       "      <th>2</th>\n",
       "      <td>West Coast BB</td>\n",
       "      <td>624</td>\n",
       "    </tr>\n",
       "    <tr>\n",
       "      <th>3</th>\n",
       "      <td>Salinas BB</td>\n",
       "      <td>5585</td>\n",
       "    </tr>\n",
       "    <tr>\n",
       "      <th>4</th>\n",
       "      <td>EU</td>\n",
       "      <td>4607</td>\n",
       "    </tr>\n",
       "    <tr>\n",
       "      <th>5</th>\n",
       "      <td>EEMEA</td>\n",
       "      <td>0</td>\n",
       "    </tr>\n",
       "    <tr>\n",
       "      <th>6</th>\n",
       "      <td>LA</td>\n",
       "      <td>1703</td>\n",
       "    </tr>\n",
       "    <tr>\n",
       "      <th>7</th>\n",
       "      <td>AP - China</td>\n",
       "      <td>3571</td>\n",
       "    </tr>\n",
       "    <tr>\n",
       "      <th>8</th>\n",
       "      <td>China</td>\n",
       "      <td>5345</td>\n",
       "    </tr>\n",
       "  </tbody>\n",
       "</table>\n",
       "</div>"
      ],
      "text/plain": [
       "         destiny  quantity\n",
       "0  East Coast BB      4080\n",
       "1  East Coast SB      1121\n",
       "2  West Coast BB       624\n",
       "3     Salinas BB      5585\n",
       "4             EU      4607\n",
       "5          EEMEA         0\n",
       "6             LA      1703\n",
       "7     AP - China      3571\n",
       "8          China      5345"
      ]
     },
     "execution_count": 7,
     "metadata": {},
     "output_type": "execute_result"
    }
   ],
   "source": [
    "demand"
   ]
  },
  {
   "cell_type": "markdown",
   "metadata": {},
   "source": [
    "##### freight_matrix"
   ]
  },
  {
   "cell_type": "code",
   "execution_count": 8,
   "metadata": {},
   "outputs": [],
   "source": [
    "freight_matrix=pd.read_csv('../data/raw/freight_matrix.csv', sep=';', decimal=',', encoding='UTF-8')"
   ]
  },
  {
   "cell_type": "code",
   "execution_count": 9,
   "metadata": {},
   "outputs": [
    {
     "data": {
      "text/html": [
       "<div>\n",
       "<style scoped>\n",
       "    .dataframe tbody tr th:only-of-type {\n",
       "        vertical-align: middle;\n",
       "    }\n",
       "\n",
       "    .dataframe tbody tr th {\n",
       "        vertical-align: top;\n",
       "    }\n",
       "\n",
       "    .dataframe thead th {\n",
       "        text-align: right;\n",
       "    }\n",
       "</style>\n",
       "<table border=\"1\" class=\"dataframe\">\n",
       "  <thead>\n",
       "    <tr style=\"text-align: right;\">\n",
       "      <th></th>\n",
       "      <th>Unnamed: 0</th>\n",
       "      <th>BC San Pedro</th>\n",
       "      <th>BC Malaysia</th>\n",
       "      <th>BC Pasir Gudang</th>\n",
       "      <th>ADM Singapore</th>\n",
       "      <th>ADM Amsterdam</th>\n",
       "    </tr>\n",
       "  </thead>\n",
       "  <tbody>\n",
       "    <tr>\n",
       "      <th>0</th>\n",
       "      <td>East Coast BB</td>\n",
       "      <td>111</td>\n",
       "      <td>240</td>\n",
       "      <td>240</td>\n",
       "      <td>140</td>\n",
       "      <td>120</td>\n",
       "    </tr>\n",
       "    <tr>\n",
       "      <th>1</th>\n",
       "      <td>East Coast SB</td>\n",
       "      <td>111</td>\n",
       "      <td>240</td>\n",
       "      <td>240</td>\n",
       "      <td>140</td>\n",
       "      <td>120</td>\n",
       "    </tr>\n",
       "    <tr>\n",
       "      <th>2</th>\n",
       "      <td>West Coast BB</td>\n",
       "      <td>511</td>\n",
       "      <td>240</td>\n",
       "      <td>240</td>\n",
       "      <td>200</td>\n",
       "      <td>120</td>\n",
       "    </tr>\n",
       "    <tr>\n",
       "      <th>3</th>\n",
       "      <td>Salinas BB</td>\n",
       "      <td>620</td>\n",
       "      <td>445</td>\n",
       "      <td>445</td>\n",
       "      <td>350</td>\n",
       "      <td>300</td>\n",
       "    </tr>\n",
       "    <tr>\n",
       "      <th>4</th>\n",
       "      <td>EU</td>\n",
       "      <td>75</td>\n",
       "      <td>150</td>\n",
       "      <td>150</td>\n",
       "      <td>150</td>\n",
       "      <td>50</td>\n",
       "    </tr>\n",
       "    <tr>\n",
       "      <th>5</th>\n",
       "      <td>EEMEA</td>\n",
       "      <td>163</td>\n",
       "      <td>41</td>\n",
       "      <td>41</td>\n",
       "      <td>41</td>\n",
       "      <td>62</td>\n",
       "    </tr>\n",
       "    <tr>\n",
       "      <th>6</th>\n",
       "      <td>LA</td>\n",
       "      <td>120</td>\n",
       "      <td>110</td>\n",
       "      <td>110</td>\n",
       "      <td>250</td>\n",
       "      <td>80</td>\n",
       "    </tr>\n",
       "    <tr>\n",
       "      <th>7</th>\n",
       "      <td>AP - China</td>\n",
       "      <td>250</td>\n",
       "      <td>60</td>\n",
       "      <td>60</td>\n",
       "      <td>60</td>\n",
       "      <td>250</td>\n",
       "    </tr>\n",
       "    <tr>\n",
       "      <th>8</th>\n",
       "      <td>China</td>\n",
       "      <td>300</td>\n",
       "      <td>60</td>\n",
       "      <td>60</td>\n",
       "      <td>60</td>\n",
       "      <td>350</td>\n",
       "    </tr>\n",
       "  </tbody>\n",
       "</table>\n",
       "</div>"
      ],
      "text/plain": [
       "      Unnamed: 0  BC San Pedro  BC Malaysia  BC Pasir Gudang  ADM Singapore  \\\n",
       "0  East Coast BB           111          240              240            140   \n",
       "1  East Coast SB           111          240              240            140   \n",
       "2  West Coast BB           511          240              240            200   \n",
       "3     Salinas BB           620          445              445            350   \n",
       "4             EU            75          150              150            150   \n",
       "5          EEMEA           163           41               41             41   \n",
       "6             LA           120          110              110            250   \n",
       "7     AP - China           250           60               60             60   \n",
       "8          China           300           60               60             60   \n",
       "\n",
       "   ADM Amsterdam  \n",
       "0            120  \n",
       "1            120  \n",
       "2            120  \n",
       "3            300  \n",
       "4             50  \n",
       "5             62  \n",
       "6             80  \n",
       "7            250  \n",
       "8            350  "
      ]
     },
     "execution_count": 9,
     "metadata": {},
     "output_type": "execute_result"
    }
   ],
   "source": [
    "freight_matrix"
   ]
  },
  {
   "cell_type": "code",
   "execution_count": 10,
   "metadata": {
    "scrolled": true
   },
   "outputs": [],
   "source": [
    "freight_matrix.rename(columns={'Unnamed: 0':''}, inplace=True)\n",
    "freight_matrix.set_index('',inplace=True)"
   ]
  },
  {
   "cell_type": "code",
   "execution_count": 11,
   "metadata": {},
   "outputs": [
    {
     "data": {
      "text/html": [
       "<div>\n",
       "<style scoped>\n",
       "    .dataframe tbody tr th:only-of-type {\n",
       "        vertical-align: middle;\n",
       "    }\n",
       "\n",
       "    .dataframe tbody tr th {\n",
       "        vertical-align: top;\n",
       "    }\n",
       "\n",
       "    .dataframe thead th {\n",
       "        text-align: right;\n",
       "    }\n",
       "</style>\n",
       "<table border=\"1\" class=\"dataframe\">\n",
       "  <thead>\n",
       "    <tr style=\"text-align: right;\">\n",
       "      <th></th>\n",
       "      <th>BC San Pedro</th>\n",
       "      <th>BC Malaysia</th>\n",
       "      <th>BC Pasir Gudang</th>\n",
       "      <th>ADM Singapore</th>\n",
       "      <th>ADM Amsterdam</th>\n",
       "    </tr>\n",
       "    <tr>\n",
       "      <th></th>\n",
       "      <th></th>\n",
       "      <th></th>\n",
       "      <th></th>\n",
       "      <th></th>\n",
       "      <th></th>\n",
       "    </tr>\n",
       "  </thead>\n",
       "  <tbody>\n",
       "    <tr>\n",
       "      <th>East Coast BB</th>\n",
       "      <td>111</td>\n",
       "      <td>240</td>\n",
       "      <td>240</td>\n",
       "      <td>140</td>\n",
       "      <td>120</td>\n",
       "    </tr>\n",
       "    <tr>\n",
       "      <th>East Coast SB</th>\n",
       "      <td>111</td>\n",
       "      <td>240</td>\n",
       "      <td>240</td>\n",
       "      <td>140</td>\n",
       "      <td>120</td>\n",
       "    </tr>\n",
       "    <tr>\n",
       "      <th>West Coast BB</th>\n",
       "      <td>511</td>\n",
       "      <td>240</td>\n",
       "      <td>240</td>\n",
       "      <td>200</td>\n",
       "      <td>120</td>\n",
       "    </tr>\n",
       "    <tr>\n",
       "      <th>Salinas BB</th>\n",
       "      <td>620</td>\n",
       "      <td>445</td>\n",
       "      <td>445</td>\n",
       "      <td>350</td>\n",
       "      <td>300</td>\n",
       "    </tr>\n",
       "    <tr>\n",
       "      <th>EU</th>\n",
       "      <td>75</td>\n",
       "      <td>150</td>\n",
       "      <td>150</td>\n",
       "      <td>150</td>\n",
       "      <td>50</td>\n",
       "    </tr>\n",
       "    <tr>\n",
       "      <th>EEMEA</th>\n",
       "      <td>163</td>\n",
       "      <td>41</td>\n",
       "      <td>41</td>\n",
       "      <td>41</td>\n",
       "      <td>62</td>\n",
       "    </tr>\n",
       "    <tr>\n",
       "      <th>LA</th>\n",
       "      <td>120</td>\n",
       "      <td>110</td>\n",
       "      <td>110</td>\n",
       "      <td>250</td>\n",
       "      <td>80</td>\n",
       "    </tr>\n",
       "    <tr>\n",
       "      <th>AP - China</th>\n",
       "      <td>250</td>\n",
       "      <td>60</td>\n",
       "      <td>60</td>\n",
       "      <td>60</td>\n",
       "      <td>250</td>\n",
       "    </tr>\n",
       "    <tr>\n",
       "      <th>China</th>\n",
       "      <td>300</td>\n",
       "      <td>60</td>\n",
       "      <td>60</td>\n",
       "      <td>60</td>\n",
       "      <td>350</td>\n",
       "    </tr>\n",
       "  </tbody>\n",
       "</table>\n",
       "</div>"
      ],
      "text/plain": [
       "               BC San Pedro  BC Malaysia  BC Pasir Gudang  ADM Singapore  \\\n",
       "                                                                           \n",
       "East Coast BB           111          240              240            140   \n",
       "East Coast SB           111          240              240            140   \n",
       "West Coast BB           511          240              240            200   \n",
       "Salinas BB              620          445              445            350   \n",
       "EU                       75          150              150            150   \n",
       "EEMEA                   163           41               41             41   \n",
       "LA                      120          110              110            250   \n",
       "AP - China              250           60               60             60   \n",
       "China                   300           60               60             60   \n",
       "\n",
       "               ADM Amsterdam  \n",
       "                              \n",
       "East Coast BB            120  \n",
       "East Coast SB            120  \n",
       "West Coast BB            120  \n",
       "Salinas BB               300  \n",
       "EU                        50  \n",
       "EEMEA                     62  \n",
       "LA                        80  \n",
       "AP - China               250  \n",
       "China                    350  "
      ]
     },
     "execution_count": 11,
     "metadata": {},
     "output_type": "execute_result"
    }
   ],
   "source": [
    "freight_matrix"
   ]
  },
  {
   "cell_type": "markdown",
   "metadata": {},
   "source": [
    "##### supply_location_capacity"
   ]
  },
  {
   "cell_type": "code",
   "execution_count": 12,
   "metadata": {},
   "outputs": [],
   "source": [
    "supply_location_capacity=pd.read_csv('../data/raw/supply_location_capacity.csv', sep=';', decimal=',', encoding='UTF-8')"
   ]
  },
  {
   "cell_type": "code",
   "execution_count": 13,
   "metadata": {},
   "outputs": [
    {
     "data": {
      "text/html": [
       "<div>\n",
       "<style scoped>\n",
       "    .dataframe tbody tr th:only-of-type {\n",
       "        vertical-align: middle;\n",
       "    }\n",
       "\n",
       "    .dataframe tbody tr th {\n",
       "        vertical-align: top;\n",
       "    }\n",
       "\n",
       "    .dataframe thead th {\n",
       "        text-align: right;\n",
       "    }\n",
       "</style>\n",
       "<table border=\"1\" class=\"dataframe\">\n",
       "  <thead>\n",
       "    <tr style=\"text-align: right;\">\n",
       "      <th></th>\n",
       "      <th>Supplier</th>\n",
       "      <th>Location</th>\n",
       "      <th>Max Capacity</th>\n",
       "    </tr>\n",
       "  </thead>\n",
       "  <tbody>\n",
       "    <tr>\n",
       "      <th>0</th>\n",
       "      <td>BC</td>\n",
       "      <td>BC San Pedro</td>\n",
       "      <td>12480</td>\n",
       "    </tr>\n",
       "    <tr>\n",
       "      <th>1</th>\n",
       "      <td>BC</td>\n",
       "      <td>BC Malaysia</td>\n",
       "      <td>7200</td>\n",
       "    </tr>\n",
       "    <tr>\n",
       "      <th>2</th>\n",
       "      <td>BC</td>\n",
       "      <td>BC Pasir Gudang</td>\n",
       "      <td>7200</td>\n",
       "    </tr>\n",
       "    <tr>\n",
       "      <th>3</th>\n",
       "      <td>Olam</td>\n",
       "      <td>Olam Singapore</td>\n",
       "      <td>7500</td>\n",
       "    </tr>\n",
       "    <tr>\n",
       "      <th>4</th>\n",
       "      <td>Olam</td>\n",
       "      <td>Olam Holland</td>\n",
       "      <td>6000</td>\n",
       "    </tr>\n",
       "  </tbody>\n",
       "</table>\n",
       "</div>"
      ],
      "text/plain": [
       "  Supplier         Location  Max Capacity\n",
       "0       BC     BC San Pedro         12480\n",
       "1       BC      BC Malaysia          7200\n",
       "2       BC  BC Pasir Gudang          7200\n",
       "3     Olam   Olam Singapore          7500\n",
       "4     Olam     Olam Holland          6000"
      ]
     },
     "execution_count": 13,
     "metadata": {},
     "output_type": "execute_result"
    }
   ],
   "source": [
    "supply_location_capacity"
   ]
  },
  {
   "cell_type": "markdown",
   "metadata": {},
   "source": [
    "##### quantity\n",
    "This matrix will be started with 0 but the zeros will be optimized "
   ]
  },
  {
   "cell_type": "code",
   "execution_count": 14,
   "metadata": {},
   "outputs": [
    {
     "data": {
      "text/plain": [
       "array([[0., 0., 0., 0., 0.],\n",
       "       [0., 0., 0., 0., 0.],\n",
       "       [0., 0., 0., 0., 0.],\n",
       "       [0., 0., 0., 0., 0.],\n",
       "       [0., 0., 0., 0., 0.],\n",
       "       [0., 0., 0., 0., 0.],\n",
       "       [0., 0., 0., 0., 0.],\n",
       "       [0., 0., 0., 0., 0.],\n",
       "       [0., 0., 0., 0., 0.]])"
      ]
     },
     "execution_count": 14,
     "metadata": {},
     "output_type": "execute_result"
    }
   ],
   "source": [
    "quantity=np.zeros((9,5))\n",
    "quantity"
   ]
  },
  {
   "cell_type": "markdown",
   "metadata": {},
   "source": [
    "### Support functions"
   ]
  },
  {
   "cell_type": "markdown",
   "metadata": {},
   "source": [
    "Let´s start defining how the freight_cost is calculated"
   ]
  },
  {
   "cell_type": "code",
   "execution_count": 15,
   "metadata": {},
   "outputs": [],
   "source": [
    "def matrix_freight_cost_calculator(quantity, freight_matrix):\n",
    "    return np.reshape(quantity, (-1, 5))*freight_matrix"
   ]
  },
  {
   "cell_type": "code",
   "execution_count": 16,
   "metadata": {},
   "outputs": [],
   "source": [
    "def total_freight_cost_calculator(matrix):\n",
    "    return np.sum(matrix.values)"
   ]
  },
  {
   "cell_type": "code",
   "execution_count": 17,
   "metadata": {},
   "outputs": [],
   "source": [
    "def matrix_base_cost_calculator(quantity,base_cost):\n",
    "    return np.reshape(quantity, (-1, 5))*base_cost"
   ]
  },
  {
   "cell_type": "code",
   "execution_count": 18,
   "metadata": {},
   "outputs": [],
   "source": [
    "def total_base_cost_calculator(matrix):      \n",
    "    return np.sum(matrix)"
   ]
  },
  {
   "cell_type": "markdown",
   "metadata": {},
   "source": [
    "### Conditions (Taxes/Duties)"
   ]
  },
  {
   "cell_type": "markdown",
   "metadata": {},
   "source": [
    "If BC Supply <19000 tons, then we incur a penalty of $125/MT"
   ]
  },
  {
   "cell_type": "code",
   "execution_count": 19,
   "metadata": {},
   "outputs": [],
   "source": [
    "def bc_supply_penalty(quantity):\n",
    "    # BC supplyers are the first 3 columns of the matrix\n",
    "    # We will sum them and apply the above rule if the result is < 19000\n",
    "    bc_quantity= np.sum(np.reshape(quantity, (-1, 5))[:,:3])\n",
    "    return bc_quantity*125 if bc_quantity <19000 else 0"
   ]
  },
  {
   "cell_type": "markdown",
   "metadata": {},
   "source": [
    "Supplies to China from outside of South East Asia, incurs an import duty of 15%"
   ]
  },
  {
   "cell_type": "code",
   "execution_count": 20,
   "metadata": {},
   "outputs": [],
   "source": [
    "def china_tax(calculated_freight_matrix,base_cost_matrix):\n",
    "    # The only supplier outside South East Asia is ADM Amsterdam\n",
    "    # The tax will be calculated over the freight cost + base cost for that supplier to Chine\n",
    "    # The position of this supplyer to China on the calculated_freigh_matrix and base_cost_matrix is 8,4 (9th row, 5th column)\n",
    "    return ((calculated_freight_matrix.values[8,4])+(base_cost_matrix[8,4]))*0.15"
   ]
  },
  {
   "cell_type": "markdown",
   "metadata": {},
   "source": [
    "Suppliers to \"AP - China\" from outside of South East Asia, incurs an import duty of 18%"
   ]
  },
  {
   "cell_type": "code",
   "execution_count": 21,
   "metadata": {},
   "outputs": [],
   "source": [
    "def ap_china_tax(calculated_freight_matrix,base_cost_matrix):\n",
    "    # The only supplier outside South East Asia is ADM Amsterdam\n",
    "    # The tax will be calculated over the freight cost + base cost for that supplier to Chine\n",
    "    # The position of this supplyer to AP-China on the calculated_freigh_matrix and base_cost_matrix is 7,4 (8th row, 5th column)\n",
    "    return (calculated_freight_matrix.values[7,4]+base_cost_matrix[7,4])*0.18"
   ]
  },
  {
   "cell_type": "markdown",
   "metadata": {},
   "source": [
    "If EU is supplied from Asia based suppliers, there is an import duty of 8%."
   ]
  },
  {
   "cell_type": "code",
   "execution_count": 22,
   "metadata": {},
   "outputs": [],
   "source": [
    "def eu_asia_tax(calculated_freight_matrix,base_cost_matrix):\n",
    "    # EU is in row 4 of the matrix (5th line)\n",
    "    # Asia based suppliers are columns 0 to 3 (4 columns)\n",
    "    return np.sum((calculated_freight_matrix.values[4,:3]+base_cost_matrix[4,:3]))*0.08"
   ]
  },
  {
   "cell_type": "markdown",
   "metadata": {},
   "source": [
    "### Time to sum all taxes"
   ]
  },
  {
   "cell_type": "code",
   "execution_count": 23,
   "metadata": {},
   "outputs": [],
   "source": [
    "def all_taxes_calculator(quantity,calculated_freight_matrix,base_cost_matrix):\n",
    "    results=[]\n",
    "    results.append(bc_supply_penalty(quantity))\n",
    "    results.append(china_tax(calculated_freight_matrix,base_cost_matrix))\n",
    "    results.append(ap_china_tax(calculated_freight_matrix,base_cost_matrix))\n",
    "    results.append(eu_asia_tax(calculated_freight_matrix,base_cost_matrix))\n",
    "    return np.sum(results)"
   ]
  },
  {
   "cell_type": "markdown",
   "metadata": {},
   "source": [
    "### Constraints"
   ]
  },
  {
   "cell_type": "markdown",
   "metadata": {},
   "source": [
    "#### Demand Constraints"
   ]
  },
  {
   "cell_type": "code",
   "execution_count": 24,
   "metadata": {},
   "outputs": [],
   "source": [
    "def constraint1(quantity):\n",
    "    q = np.reshape(quantity, (-1, 5))    \n",
    "    return q.sum(axis=1)[0]-4080"
   ]
  },
  {
   "cell_type": "code",
   "execution_count": 25,
   "metadata": {},
   "outputs": [],
   "source": [
    "def constraint2(quantity):\n",
    "    q = np.reshape(quantity, (-1, 5))   \n",
    "    return q.sum(axis=1)[1]-1121"
   ]
  },
  {
   "cell_type": "code",
   "execution_count": 26,
   "metadata": {},
   "outputs": [],
   "source": [
    "def constraint3(quantity):\n",
    "    q = np.reshape(quantity, (-1, 5))   \n",
    "    return q.sum(axis=1)[2]-624"
   ]
  },
  {
   "cell_type": "code",
   "execution_count": 27,
   "metadata": {},
   "outputs": [],
   "source": [
    "def constraint4(quantity):\n",
    "    q = np.reshape(quantity, (-1, 5))   \n",
    "    return q.sum(axis=1)[3]-5585"
   ]
  },
  {
   "cell_type": "code",
   "execution_count": 28,
   "metadata": {},
   "outputs": [],
   "source": [
    "def constraint5(quantity):\n",
    "    q = np.reshape(quantity, (-1, 5))   \n",
    "    return q.sum(axis=1)[4]-4607"
   ]
  },
  {
   "cell_type": "code",
   "execution_count": 29,
   "metadata": {},
   "outputs": [],
   "source": [
    "def constraint6(quantity):\n",
    "    q = np.reshape(quantity, (-1, 5))   \n",
    "    return q.sum(axis=1)[5]-0"
   ]
  },
  {
   "cell_type": "code",
   "execution_count": 30,
   "metadata": {},
   "outputs": [],
   "source": [
    "def constraint7(quantity):\n",
    "    q = np.reshape(quantity, (-1, 5))   \n",
    "    return q.sum(axis=1)[6]-1703"
   ]
  },
  {
   "cell_type": "code",
   "execution_count": 31,
   "metadata": {},
   "outputs": [],
   "source": [
    "def constraint8(quantity):\n",
    "    q = np.reshape(quantity, (-1, 5))   \n",
    "    return q.sum(axis=1)[7]-3571"
   ]
  },
  {
   "cell_type": "code",
   "execution_count": 32,
   "metadata": {},
   "outputs": [],
   "source": [
    "def constraint9(quantity):\n",
    "    q = np.reshape(quantity, (-1, 5))   \n",
    "    return q.sum(axis=1)[8]-5345"
   ]
  },
  {
   "cell_type": "markdown",
   "metadata": {},
   "source": [
    "#### Capacity Constraints"
   ]
  },
  {
   "cell_type": "code",
   "execution_count": 33,
   "metadata": {},
   "outputs": [],
   "source": [
    "def constraint10(quantity):\n",
    "    q = np.reshape(quantity, (-1, 5))   \n",
    "    return 12480-q.sum(axis=0)[0]"
   ]
  },
  {
   "cell_type": "code",
   "execution_count": 34,
   "metadata": {},
   "outputs": [],
   "source": [
    "def constraint11(quantity):\n",
    "    q = np.reshape(quantity, (-1, 5))   \n",
    "    return 7200-q.sum(axis=0)[1]"
   ]
  },
  {
   "cell_type": "code",
   "execution_count": 35,
   "metadata": {},
   "outputs": [],
   "source": [
    "def constraint12(quantity):\n",
    "    q = np.reshape(quantity, (-1, 5))   \n",
    "    return 7200-q.sum(axis=0)[2]"
   ]
  },
  {
   "cell_type": "code",
   "execution_count": 36,
   "metadata": {},
   "outputs": [],
   "source": [
    "def constraint13(quantity):\n",
    "    q = np.reshape(quantity, (-1, 5))   \n",
    "    return 7500-q.sum(axis=0)[3]"
   ]
  },
  {
   "cell_type": "code",
   "execution_count": 37,
   "metadata": {},
   "outputs": [],
   "source": [
    "def constraint14(quantity):\n",
    "    q = np.reshape(quantity, (-1, 5))   \n",
    "    return 6000-q.sum(axis=0)[4]"
   ]
  },
  {
   "cell_type": "code",
   "execution_count": 38,
   "metadata": {},
   "outputs": [],
   "source": [
    "con1 = {'type':'ineq', 'fun':constraint1}\n",
    "con2 = {'type':'ineq', 'fun':constraint2}\n",
    "con3 = {'type':'ineq', 'fun':constraint3}\n",
    "con4 = {'type':'ineq', 'fun':constraint4}\n",
    "con5 = {'type':'ineq', 'fun':constraint5}\n",
    "con6 = {'type':'ineq', 'fun':constraint6}\n",
    "con7 = {'type':'ineq', 'fun':constraint7}\n",
    "con8 = {'type':'ineq', 'fun':constraint8}\n",
    "con9 = {'type':'ineq', 'fun':constraint9}\n",
    "con10 = {'type':'ineq', 'fun':constraint10}\n",
    "con11 = {'type':'ineq', 'fun':constraint11}\n",
    "con12 = {'type':'ineq', 'fun':constraint12}\n",
    "con13 = {'type':'ineq', 'fun':constraint13}\n",
    "con14 = {'type':'ineq', 'fun':constraint14}"
   ]
  },
  {
   "cell_type": "code",
   "execution_count": 39,
   "metadata": {},
   "outputs": [],
   "source": [
    "cons=[con1,con2,con3,con4,con5,con6,con7,\n",
    "     con8,con9,con10,con11,con12,con13,con14]"
   ]
  },
  {
   "cell_type": "code",
   "execution_count": 40,
   "metadata": {},
   "outputs": [],
   "source": [
    "b=(0., None)\n",
    "bnds=(b,b,b,b,b,\n",
    "      b,b,b,b,b,\n",
    "      b,b,b,b,b,\n",
    "      b,b,b,b,b,\n",
    "      b,b,b,b,b,\n",
    "      b,b,b,b,b,\n",
    "      b,b,b,b,b,\n",
    "      b,b,b,b,b,\n",
    "      b,b,b,b,b)"
   ]
  },
  {
   "cell_type": "markdown",
   "metadata": {},
   "source": [
    "### Optimization Function"
   ]
  },
  {
   "cell_type": "markdown",
   "metadata": {},
   "source": [
    "The main objective of this code is to minimize the below function"
   ]
  },
  {
   "cell_type": "code",
   "execution_count": 41,
   "metadata": {},
   "outputs": [],
   "source": [
    "def objective_calculator(quantity,freight_matrix,base_cost):\n",
    "    taxes = all_taxes_calculator(quantity,\n",
    "                             matrix_freight_cost_calculator(quantity, freight_matrix),\n",
    "                             matrix_base_cost_calculator(quantity,base_cost))\n",
    "    base = total_base_cost_calculator(matrix_base_cost_calculator(quantity,base_cost))\n",
    "    freight = total_freight_cost_calculator(matrix_freight_cost_calculator(quantity, freight_matrix))\n",
    "    return base+freight+taxes"
   ]
  },
  {
   "cell_type": "code",
   "execution_count": 64,
   "metadata": {
    "scrolled": true
   },
   "outputs": [],
   "source": [
    "min=minimize(objective_calculator,quantity,method='SLSQP', constraints=cons ,bounds=bnds,args=(freight_matrix,base_cost),\n",
    "            options={'maxiter': 1000000000})"
   ]
  },
  {
   "cell_type": "code",
   "execution_count": 65,
   "metadata": {},
   "outputs": [
    {
     "data": {
      "text/plain": [
       "False"
      ]
     },
     "execution_count": 65,
     "metadata": {},
     "output_type": "execute_result"
    }
   ],
   "source": [
    "min.success"
   ]
  },
  {
   "cell_type": "code",
   "execution_count": 46,
   "metadata": {},
   "outputs": [
    {
     "data": {
      "text/plain": [
       "'Portuguese_Brazil.1252'"
      ]
     },
     "execution_count": 46,
     "metadata": {},
     "output_type": "execute_result"
    }
   ],
   "source": [
    "import locale\n",
    "locale.setlocale( locale.LC_ALL, '' )"
   ]
  },
  {
   "cell_type": "code",
   "execution_count": 47,
   "metadata": {},
   "outputs": [
    {
     "data": {
      "text/plain": [
       "'R$ 100.993.832,06'"
      ]
     },
     "execution_count": 47,
     "metadata": {},
     "output_type": "execute_result"
    }
   ],
   "source": [
    "locale.currency( min.fun, grouping=True )"
   ]
  },
  {
   "cell_type": "code",
   "execution_count": 66,
   "metadata": {},
   "outputs": [
    {
     "data": {
      "text/html": [
       "<div>\n",
       "<style scoped>\n",
       "    .dataframe tbody tr th:only-of-type {\n",
       "        vertical-align: middle;\n",
       "    }\n",
       "\n",
       "    .dataframe tbody tr th {\n",
       "        vertical-align: top;\n",
       "    }\n",
       "\n",
       "    .dataframe thead th {\n",
       "        text-align: right;\n",
       "    }\n",
       "</style>\n",
       "<table border=\"1\" class=\"dataframe\">\n",
       "  <thead>\n",
       "    <tr style=\"text-align: right;\">\n",
       "      <th></th>\n",
       "      <th>0</th>\n",
       "      <th>1</th>\n",
       "      <th>2</th>\n",
       "      <th>3</th>\n",
       "      <th>4</th>\n",
       "    </tr>\n",
       "  </thead>\n",
       "  <tbody>\n",
       "    <tr>\n",
       "      <th>0</th>\n",
       "      <td>4079.998910</td>\n",
       "      <td>0.000000</td>\n",
       "      <td>0.000000</td>\n",
       "      <td>0.000000</td>\n",
       "      <td>0.000000</td>\n",
       "    </tr>\n",
       "    <tr>\n",
       "      <th>1</th>\n",
       "      <td>1120.998910</td>\n",
       "      <td>0.000000</td>\n",
       "      <td>0.000000</td>\n",
       "      <td>0.000000</td>\n",
       "      <td>0.000000</td>\n",
       "    </tr>\n",
       "    <tr>\n",
       "      <th>2</th>\n",
       "      <td>0.000000</td>\n",
       "      <td>0.000000</td>\n",
       "      <td>0.000000</td>\n",
       "      <td>0.000000</td>\n",
       "      <td>623.999008</td>\n",
       "    </tr>\n",
       "    <tr>\n",
       "      <th>3</th>\n",
       "      <td>0.000000</td>\n",
       "      <td>0.000000</td>\n",
       "      <td>0.000000</td>\n",
       "      <td>4815.998777</td>\n",
       "      <td>768.998955</td>\n",
       "    </tr>\n",
       "    <tr>\n",
       "      <th>4</th>\n",
       "      <td>0.000000</td>\n",
       "      <td>0.000000</td>\n",
       "      <td>0.000000</td>\n",
       "      <td>0.000000</td>\n",
       "      <td>4606.999028</td>\n",
       "    </tr>\n",
       "    <tr>\n",
       "      <th>5</th>\n",
       "      <td>0.000000</td>\n",
       "      <td>0.000000</td>\n",
       "      <td>0.000000</td>\n",
       "      <td>0.000000</td>\n",
       "      <td>0.000000</td>\n",
       "    </tr>\n",
       "    <tr>\n",
       "      <th>6</th>\n",
       "      <td>1702.998907</td>\n",
       "      <td>0.000000</td>\n",
       "      <td>0.000000</td>\n",
       "      <td>0.000000</td>\n",
       "      <td>0.000000</td>\n",
       "    </tr>\n",
       "    <tr>\n",
       "      <th>7</th>\n",
       "      <td>3570.998869</td>\n",
       "      <td>0.000000</td>\n",
       "      <td>0.000000</td>\n",
       "      <td>0.000000</td>\n",
       "      <td>0.000000</td>\n",
       "    </tr>\n",
       "    <tr>\n",
       "      <th>8</th>\n",
       "      <td>2004.998855</td>\n",
       "      <td>327.998795</td>\n",
       "      <td>327.998795</td>\n",
       "      <td>2683.998862</td>\n",
       "      <td>0.000000</td>\n",
       "    </tr>\n",
       "  </tbody>\n",
       "</table>\n",
       "</div>"
      ],
      "text/plain": [
       "             0           1           2            3            4\n",
       "0  4079.998910    0.000000    0.000000     0.000000     0.000000\n",
       "1  1120.998910    0.000000    0.000000     0.000000     0.000000\n",
       "2     0.000000    0.000000    0.000000     0.000000   623.999008\n",
       "3     0.000000    0.000000    0.000000  4815.998777   768.998955\n",
       "4     0.000000    0.000000    0.000000     0.000000  4606.999028\n",
       "5     0.000000    0.000000    0.000000     0.000000     0.000000\n",
       "6  1702.998907    0.000000    0.000000     0.000000     0.000000\n",
       "7  3570.998869    0.000000    0.000000     0.000000     0.000000\n",
       "8  2004.998855  327.998795  327.998795  2683.998862     0.000000"
      ]
     },
     "execution_count": 66,
     "metadata": {},
     "output_type": "execute_result"
    }
   ],
   "source": [
    "pd.DataFrame(np.reshape(min['x'],(-1,5)))"
   ]
  }
 ],
 "metadata": {
  "kernelspec": {
   "display_name": "Python 3",
   "language": "python",
   "name": "python3"
  },
  "language_info": {
   "codemirror_mode": {
    "name": "ipython",
    "version": 3
   },
   "file_extension": ".py",
   "mimetype": "text/x-python",
   "name": "python",
   "nbconvert_exporter": "python",
   "pygments_lexer": "ipython3",
   "version": "3.7.1"
  }
 },
 "nbformat": 4,
 "nbformat_minor": 2
}
