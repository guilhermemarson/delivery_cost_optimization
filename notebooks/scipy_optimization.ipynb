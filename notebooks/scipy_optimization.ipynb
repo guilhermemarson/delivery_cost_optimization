{
 "cells": [
  {
   "cell_type": "code",
   "execution_count": 199,
   "metadata": {},
   "outputs": [],
   "source": [
    "import pandas as pd\n",
    "import numpy as np\n",
    "from scipy.optimize import minimize"
   ]
  },
  {
   "cell_type": "markdown",
   "metadata": {},
   "source": [
    "# Cost Supply Network Optimization"
   ]
  },
  {
   "attachments": {},
   "cell_type": "markdown",
   "metadata": {},
   "source": [
    "### Problem Statement\n",
    "###### Come up with a best cost supply network (Which supplier which location should service which plants and what qty). It must optimize all constraints, satisfy the full demand at our locations.\n",
    "\n",
    "\n",
    "**Optimization Function**: Delivered cost = Base Cost + Freight Cost + Any taxes/duties\n",
    "##### Some additional Points to be taken care of\n",
    "* If BC Supply <19000 tons, then we incur a penalty of $125/MT\n",
    "* Supplies to China from outside of South East Asia, incurs an import duty of 15%\n",
    "* Suppliers to \"AP - China\" from outside of South East Asia, incurs an import duty of 18%\n",
    "* If EU is supplied from Asia based suppliers, there is an import duty of 8%.\n"
   ]
  },
  {
   "cell_type": "markdown",
   "metadata": {},
   "source": [
    "#### The first step is to open all data sources"
   ]
  },
  {
   "cell_type": "markdown",
   "metadata": {},
   "source": [
    "##### base_cost"
   ]
  },
  {
   "cell_type": "code",
   "execution_count": 200,
   "metadata": {},
   "outputs": [],
   "source": [
    "base_cost = pd.read_csv('../data/raw/base_cost.csv', sep=';', decimal=',', encoding='UTF-8')"
   ]
  },
  {
   "cell_type": "code",
   "execution_count": 201,
   "metadata": {},
   "outputs": [
    {
     "data": {
      "text/html": [
       "<div>\n",
       "<style scoped>\n",
       "    .dataframe tbody tr th:only-of-type {\n",
       "        vertical-align: middle;\n",
       "    }\n",
       "\n",
       "    .dataframe tbody tr th {\n",
       "        vertical-align: top;\n",
       "    }\n",
       "\n",
       "    .dataframe thead th {\n",
       "        text-align: right;\n",
       "    }\n",
       "</style>\n",
       "<table border=\"1\" class=\"dataframe\">\n",
       "  <thead>\n",
       "    <tr style=\"text-align: right;\">\n",
       "      <th></th>\n",
       "      <th>Location</th>\n",
       "      <th>Cost ($/MT)</th>\n",
       "    </tr>\n",
       "  </thead>\n",
       "  <tbody>\n",
       "    <tr>\n",
       "      <th>0</th>\n",
       "      <td>BC San Pedro</td>\n",
       "      <td>3496</td>\n",
       "    </tr>\n",
       "    <tr>\n",
       "      <th>1</th>\n",
       "      <td>BC Malaysia</td>\n",
       "      <td>3942</td>\n",
       "    </tr>\n",
       "    <tr>\n",
       "      <th>2</th>\n",
       "      <td>BC Pasir Gudang</td>\n",
       "      <td>3942</td>\n",
       "    </tr>\n",
       "    <tr>\n",
       "      <th>3</th>\n",
       "      <td>Olam Singapore</td>\n",
       "      <td>3836</td>\n",
       "    </tr>\n",
       "    <tr>\n",
       "      <th>4</th>\n",
       "      <td>Olam Holland</td>\n",
       "      <td>3278</td>\n",
       "    </tr>\n",
       "  </tbody>\n",
       "</table>\n",
       "</div>"
      ],
      "text/plain": [
       "          Location  Cost ($/MT)\n",
       "0     BC San Pedro         3496\n",
       "1      BC Malaysia         3942\n",
       "2  BC Pasir Gudang         3942\n",
       "3   Olam Singapore         3836\n",
       "4     Olam Holland         3278"
      ]
     },
     "execution_count": 201,
     "metadata": {},
     "output_type": "execute_result"
    }
   ],
   "source": [
    "base_cost"
   ]
  },
  {
   "cell_type": "markdown",
   "metadata": {},
   "source": [
    "This dataframe will be converted to a numpy array and transposed to ease the calculations"
   ]
  },
  {
   "cell_type": "code",
   "execution_count": 202,
   "metadata": {},
   "outputs": [],
   "source": [
    "base_cost=np.array((base_cost.values[:,1]),ndmin=2)"
   ]
  },
  {
   "cell_type": "code",
   "execution_count": 203,
   "metadata": {},
   "outputs": [
    {
     "data": {
      "text/plain": [
       "array([[3496, 3942, 3942, 3836, 3278]], dtype=object)"
      ]
     },
     "execution_count": 203,
     "metadata": {},
     "output_type": "execute_result"
    }
   ],
   "source": [
    "base_cost"
   ]
  },
  {
   "cell_type": "markdown",
   "metadata": {},
   "source": [
    "##### demand"
   ]
  },
  {
   "cell_type": "code",
   "execution_count": 204,
   "metadata": {},
   "outputs": [],
   "source": [
    "demand=pd.read_csv('../data/raw/demand.csv', sep=';', decimal=',', encoding='UTF-8')"
   ]
  },
  {
   "cell_type": "code",
   "execution_count": 205,
   "metadata": {},
   "outputs": [
    {
     "data": {
      "text/html": [
       "<div>\n",
       "<style scoped>\n",
       "    .dataframe tbody tr th:only-of-type {\n",
       "        vertical-align: middle;\n",
       "    }\n",
       "\n",
       "    .dataframe tbody tr th {\n",
       "        vertical-align: top;\n",
       "    }\n",
       "\n",
       "    .dataframe thead th {\n",
       "        text-align: right;\n",
       "    }\n",
       "</style>\n",
       "<table border=\"1\" class=\"dataframe\">\n",
       "  <thead>\n",
       "    <tr style=\"text-align: right;\">\n",
       "      <th></th>\n",
       "      <th>destiny</th>\n",
       "      <th>quantity</th>\n",
       "    </tr>\n",
       "  </thead>\n",
       "  <tbody>\n",
       "    <tr>\n",
       "      <th>0</th>\n",
       "      <td>East Coast BB</td>\n",
       "      <td>4080</td>\n",
       "    </tr>\n",
       "    <tr>\n",
       "      <th>1</th>\n",
       "      <td>East Coast SB</td>\n",
       "      <td>1121</td>\n",
       "    </tr>\n",
       "    <tr>\n",
       "      <th>2</th>\n",
       "      <td>West Coast BB</td>\n",
       "      <td>624</td>\n",
       "    </tr>\n",
       "    <tr>\n",
       "      <th>3</th>\n",
       "      <td>Salinas BB</td>\n",
       "      <td>5585</td>\n",
       "    </tr>\n",
       "    <tr>\n",
       "      <th>4</th>\n",
       "      <td>EU</td>\n",
       "      <td>4607</td>\n",
       "    </tr>\n",
       "    <tr>\n",
       "      <th>5</th>\n",
       "      <td>EEMEA</td>\n",
       "      <td>0</td>\n",
       "    </tr>\n",
       "    <tr>\n",
       "      <th>6</th>\n",
       "      <td>LA</td>\n",
       "      <td>1703</td>\n",
       "    </tr>\n",
       "    <tr>\n",
       "      <th>7</th>\n",
       "      <td>AP - China</td>\n",
       "      <td>3571</td>\n",
       "    </tr>\n",
       "    <tr>\n",
       "      <th>8</th>\n",
       "      <td>China</td>\n",
       "      <td>5345</td>\n",
       "    </tr>\n",
       "  </tbody>\n",
       "</table>\n",
       "</div>"
      ],
      "text/plain": [
       "         destiny  quantity\n",
       "0  East Coast BB      4080\n",
       "1  East Coast SB      1121\n",
       "2  West Coast BB       624\n",
       "3     Salinas BB      5585\n",
       "4             EU      4607\n",
       "5          EEMEA         0\n",
       "6             LA      1703\n",
       "7     AP - China      3571\n",
       "8          China      5345"
      ]
     },
     "execution_count": 205,
     "metadata": {},
     "output_type": "execute_result"
    }
   ],
   "source": [
    "demand"
   ]
  },
  {
   "cell_type": "markdown",
   "metadata": {},
   "source": [
    "##### freight_matrix"
   ]
  },
  {
   "cell_type": "code",
   "execution_count": 206,
   "metadata": {},
   "outputs": [],
   "source": [
    "freight_matrix=pd.read_csv('../data/raw/freight_matrix.csv', sep=';', decimal=',', encoding='UTF-8')"
   ]
  },
  {
   "cell_type": "code",
   "execution_count": 207,
   "metadata": {},
   "outputs": [
    {
     "data": {
      "text/html": [
       "<div>\n",
       "<style scoped>\n",
       "    .dataframe tbody tr th:only-of-type {\n",
       "        vertical-align: middle;\n",
       "    }\n",
       "\n",
       "    .dataframe tbody tr th {\n",
       "        vertical-align: top;\n",
       "    }\n",
       "\n",
       "    .dataframe thead th {\n",
       "        text-align: right;\n",
       "    }\n",
       "</style>\n",
       "<table border=\"1\" class=\"dataframe\">\n",
       "  <thead>\n",
       "    <tr style=\"text-align: right;\">\n",
       "      <th></th>\n",
       "      <th>Unnamed: 0</th>\n",
       "      <th>BC San Pedro</th>\n",
       "      <th>BC Malaysia</th>\n",
       "      <th>BC Pasir Gudang</th>\n",
       "      <th>ADM Singapore</th>\n",
       "      <th>ADM Amsterdam</th>\n",
       "    </tr>\n",
       "  </thead>\n",
       "  <tbody>\n",
       "    <tr>\n",
       "      <th>0</th>\n",
       "      <td>East Coast BB</td>\n",
       "      <td>111</td>\n",
       "      <td>240</td>\n",
       "      <td>240</td>\n",
       "      <td>140</td>\n",
       "      <td>120</td>\n",
       "    </tr>\n",
       "    <tr>\n",
       "      <th>1</th>\n",
       "      <td>East Coast SB</td>\n",
       "      <td>111</td>\n",
       "      <td>240</td>\n",
       "      <td>240</td>\n",
       "      <td>140</td>\n",
       "      <td>120</td>\n",
       "    </tr>\n",
       "    <tr>\n",
       "      <th>2</th>\n",
       "      <td>West Coast BB</td>\n",
       "      <td>511</td>\n",
       "      <td>240</td>\n",
       "      <td>240</td>\n",
       "      <td>200</td>\n",
       "      <td>120</td>\n",
       "    </tr>\n",
       "    <tr>\n",
       "      <th>3</th>\n",
       "      <td>Salinas BB</td>\n",
       "      <td>620</td>\n",
       "      <td>445</td>\n",
       "      <td>445</td>\n",
       "      <td>350</td>\n",
       "      <td>300</td>\n",
       "    </tr>\n",
       "    <tr>\n",
       "      <th>4</th>\n",
       "      <td>EU</td>\n",
       "      <td>75</td>\n",
       "      <td>150</td>\n",
       "      <td>150</td>\n",
       "      <td>150</td>\n",
       "      <td>50</td>\n",
       "    </tr>\n",
       "    <tr>\n",
       "      <th>5</th>\n",
       "      <td>EEMEA</td>\n",
       "      <td>163</td>\n",
       "      <td>41</td>\n",
       "      <td>41</td>\n",
       "      <td>41</td>\n",
       "      <td>62</td>\n",
       "    </tr>\n",
       "    <tr>\n",
       "      <th>6</th>\n",
       "      <td>LA</td>\n",
       "      <td>120</td>\n",
       "      <td>110</td>\n",
       "      <td>110</td>\n",
       "      <td>250</td>\n",
       "      <td>80</td>\n",
       "    </tr>\n",
       "    <tr>\n",
       "      <th>7</th>\n",
       "      <td>AP - China</td>\n",
       "      <td>250</td>\n",
       "      <td>60</td>\n",
       "      <td>60</td>\n",
       "      <td>60</td>\n",
       "      <td>250</td>\n",
       "    </tr>\n",
       "    <tr>\n",
       "      <th>8</th>\n",
       "      <td>China</td>\n",
       "      <td>300</td>\n",
       "      <td>60</td>\n",
       "      <td>60</td>\n",
       "      <td>60</td>\n",
       "      <td>350</td>\n",
       "    </tr>\n",
       "  </tbody>\n",
       "</table>\n",
       "</div>"
      ],
      "text/plain": [
       "      Unnamed: 0  BC San Pedro  BC Malaysia  BC Pasir Gudang  ADM Singapore  \\\n",
       "0  East Coast BB           111          240              240            140   \n",
       "1  East Coast SB           111          240              240            140   \n",
       "2  West Coast BB           511          240              240            200   \n",
       "3     Salinas BB           620          445              445            350   \n",
       "4             EU            75          150              150            150   \n",
       "5          EEMEA           163           41               41             41   \n",
       "6             LA           120          110              110            250   \n",
       "7     AP - China           250           60               60             60   \n",
       "8          China           300           60               60             60   \n",
       "\n",
       "   ADM Amsterdam  \n",
       "0            120  \n",
       "1            120  \n",
       "2            120  \n",
       "3            300  \n",
       "4             50  \n",
       "5             62  \n",
       "6             80  \n",
       "7            250  \n",
       "8            350  "
      ]
     },
     "execution_count": 207,
     "metadata": {},
     "output_type": "execute_result"
    }
   ],
   "source": [
    "freight_matrix"
   ]
  },
  {
   "cell_type": "code",
   "execution_count": 208,
   "metadata": {
    "scrolled": true
   },
   "outputs": [],
   "source": [
    "freight_matrix.rename(columns={'Unnamed: 0':''}, inplace=True)\n",
    "freight_matrix.set_index('',inplace=True)"
   ]
  },
  {
   "cell_type": "code",
   "execution_count": 209,
   "metadata": {},
   "outputs": [
    {
     "data": {
      "text/html": [
       "<div>\n",
       "<style scoped>\n",
       "    .dataframe tbody tr th:only-of-type {\n",
       "        vertical-align: middle;\n",
       "    }\n",
       "\n",
       "    .dataframe tbody tr th {\n",
       "        vertical-align: top;\n",
       "    }\n",
       "\n",
       "    .dataframe thead th {\n",
       "        text-align: right;\n",
       "    }\n",
       "</style>\n",
       "<table border=\"1\" class=\"dataframe\">\n",
       "  <thead>\n",
       "    <tr style=\"text-align: right;\">\n",
       "      <th></th>\n",
       "      <th>BC San Pedro</th>\n",
       "      <th>BC Malaysia</th>\n",
       "      <th>BC Pasir Gudang</th>\n",
       "      <th>ADM Singapore</th>\n",
       "      <th>ADM Amsterdam</th>\n",
       "    </tr>\n",
       "    <tr>\n",
       "      <th></th>\n",
       "      <th></th>\n",
       "      <th></th>\n",
       "      <th></th>\n",
       "      <th></th>\n",
       "      <th></th>\n",
       "    </tr>\n",
       "  </thead>\n",
       "  <tbody>\n",
       "    <tr>\n",
       "      <th>East Coast BB</th>\n",
       "      <td>111</td>\n",
       "      <td>240</td>\n",
       "      <td>240</td>\n",
       "      <td>140</td>\n",
       "      <td>120</td>\n",
       "    </tr>\n",
       "    <tr>\n",
       "      <th>East Coast SB</th>\n",
       "      <td>111</td>\n",
       "      <td>240</td>\n",
       "      <td>240</td>\n",
       "      <td>140</td>\n",
       "      <td>120</td>\n",
       "    </tr>\n",
       "    <tr>\n",
       "      <th>West Coast BB</th>\n",
       "      <td>511</td>\n",
       "      <td>240</td>\n",
       "      <td>240</td>\n",
       "      <td>200</td>\n",
       "      <td>120</td>\n",
       "    </tr>\n",
       "    <tr>\n",
       "      <th>Salinas BB</th>\n",
       "      <td>620</td>\n",
       "      <td>445</td>\n",
       "      <td>445</td>\n",
       "      <td>350</td>\n",
       "      <td>300</td>\n",
       "    </tr>\n",
       "    <tr>\n",
       "      <th>EU</th>\n",
       "      <td>75</td>\n",
       "      <td>150</td>\n",
       "      <td>150</td>\n",
       "      <td>150</td>\n",
       "      <td>50</td>\n",
       "    </tr>\n",
       "    <tr>\n",
       "      <th>EEMEA</th>\n",
       "      <td>163</td>\n",
       "      <td>41</td>\n",
       "      <td>41</td>\n",
       "      <td>41</td>\n",
       "      <td>62</td>\n",
       "    </tr>\n",
       "    <tr>\n",
       "      <th>LA</th>\n",
       "      <td>120</td>\n",
       "      <td>110</td>\n",
       "      <td>110</td>\n",
       "      <td>250</td>\n",
       "      <td>80</td>\n",
       "    </tr>\n",
       "    <tr>\n",
       "      <th>AP - China</th>\n",
       "      <td>250</td>\n",
       "      <td>60</td>\n",
       "      <td>60</td>\n",
       "      <td>60</td>\n",
       "      <td>250</td>\n",
       "    </tr>\n",
       "    <tr>\n",
       "      <th>China</th>\n",
       "      <td>300</td>\n",
       "      <td>60</td>\n",
       "      <td>60</td>\n",
       "      <td>60</td>\n",
       "      <td>350</td>\n",
       "    </tr>\n",
       "  </tbody>\n",
       "</table>\n",
       "</div>"
      ],
      "text/plain": [
       "               BC San Pedro  BC Malaysia  BC Pasir Gudang  ADM Singapore  \\\n",
       "                                                                           \n",
       "East Coast BB           111          240              240            140   \n",
       "East Coast SB           111          240              240            140   \n",
       "West Coast BB           511          240              240            200   \n",
       "Salinas BB              620          445              445            350   \n",
       "EU                       75          150              150            150   \n",
       "EEMEA                   163           41               41             41   \n",
       "LA                      120          110              110            250   \n",
       "AP - China              250           60               60             60   \n",
       "China                   300           60               60             60   \n",
       "\n",
       "               ADM Amsterdam  \n",
       "                              \n",
       "East Coast BB            120  \n",
       "East Coast SB            120  \n",
       "West Coast BB            120  \n",
       "Salinas BB               300  \n",
       "EU                        50  \n",
       "EEMEA                     62  \n",
       "LA                        80  \n",
       "AP - China               250  \n",
       "China                    350  "
      ]
     },
     "execution_count": 209,
     "metadata": {},
     "output_type": "execute_result"
    }
   ],
   "source": [
    "freight_matrix"
   ]
  },
  {
   "cell_type": "markdown",
   "metadata": {},
   "source": [
    "##### supply_location_capacity"
   ]
  },
  {
   "cell_type": "code",
   "execution_count": 210,
   "metadata": {},
   "outputs": [],
   "source": [
    "supply_location_capacity=pd.read_csv('../data/raw/supply_location_capacity.csv', sep=';', decimal=',', encoding='UTF-8')"
   ]
  },
  {
   "cell_type": "code",
   "execution_count": 211,
   "metadata": {},
   "outputs": [
    {
     "data": {
      "text/html": [
       "<div>\n",
       "<style scoped>\n",
       "    .dataframe tbody tr th:only-of-type {\n",
       "        vertical-align: middle;\n",
       "    }\n",
       "\n",
       "    .dataframe tbody tr th {\n",
       "        vertical-align: top;\n",
       "    }\n",
       "\n",
       "    .dataframe thead th {\n",
       "        text-align: right;\n",
       "    }\n",
       "</style>\n",
       "<table border=\"1\" class=\"dataframe\">\n",
       "  <thead>\n",
       "    <tr style=\"text-align: right;\">\n",
       "      <th></th>\n",
       "      <th>Supplier</th>\n",
       "      <th>Location</th>\n",
       "      <th>Max Capacity</th>\n",
       "    </tr>\n",
       "  </thead>\n",
       "  <tbody>\n",
       "    <tr>\n",
       "      <th>0</th>\n",
       "      <td>BC</td>\n",
       "      <td>BC San Pedro</td>\n",
       "      <td>12480</td>\n",
       "    </tr>\n",
       "    <tr>\n",
       "      <th>1</th>\n",
       "      <td>BC</td>\n",
       "      <td>BC Malaysia</td>\n",
       "      <td>7200</td>\n",
       "    </tr>\n",
       "    <tr>\n",
       "      <th>2</th>\n",
       "      <td>BC</td>\n",
       "      <td>BC Pasir Gudang</td>\n",
       "      <td>7200</td>\n",
       "    </tr>\n",
       "    <tr>\n",
       "      <th>3</th>\n",
       "      <td>Olam</td>\n",
       "      <td>Olam Singapore</td>\n",
       "      <td>7500</td>\n",
       "    </tr>\n",
       "    <tr>\n",
       "      <th>4</th>\n",
       "      <td>Olam</td>\n",
       "      <td>Olam Holland</td>\n",
       "      <td>6000</td>\n",
       "    </tr>\n",
       "  </tbody>\n",
       "</table>\n",
       "</div>"
      ],
      "text/plain": [
       "  Supplier         Location  Max Capacity\n",
       "0       BC     BC San Pedro         12480\n",
       "1       BC      BC Malaysia          7200\n",
       "2       BC  BC Pasir Gudang          7200\n",
       "3     Olam   Olam Singapore          7500\n",
       "4     Olam     Olam Holland          6000"
      ]
     },
     "execution_count": 211,
     "metadata": {},
     "output_type": "execute_result"
    }
   ],
   "source": [
    "supply_location_capacity"
   ]
  },
  {
   "cell_type": "markdown",
   "metadata": {},
   "source": [
    "##### quantity\n",
    "This matrix will be started with 0 but the zeros will be optimized "
   ]
  },
  {
   "cell_type": "code",
   "execution_count": 212,
   "metadata": {},
   "outputs": [
    {
     "data": {
      "text/plain": [
       "array([[0., 0., 0., 0., 0.],\n",
       "       [0., 0., 0., 0., 0.],\n",
       "       [0., 0., 0., 0., 0.],\n",
       "       [0., 0., 0., 0., 0.],\n",
       "       [0., 0., 0., 0., 0.],\n",
       "       [0., 0., 0., 0., 0.],\n",
       "       [0., 0., 0., 0., 0.],\n",
       "       [0., 0., 0., 0., 0.],\n",
       "       [0., 0., 0., 0., 0.]])"
      ]
     },
     "execution_count": 212,
     "metadata": {},
     "output_type": "execute_result"
    }
   ],
   "source": [
    "quantity=np.zeros((9,5))\n",
    "quantity"
   ]
  },
  {
   "cell_type": "markdown",
   "metadata": {},
   "source": [
    "### Optimization Function"
   ]
  },
  {
   "cell_type": "markdown",
   "metadata": {},
   "source": [
    "The main objective of this code is to minimize the below function"
   ]
  },
  {
   "cell_type": "code",
   "execution_count": 213,
   "metadata": {},
   "outputs": [],
   "source": [
    "def objective_calculator(base,freight,taxes):\n",
    "    return base+freight+taxes"
   ]
  },
  {
   "cell_type": "markdown",
   "metadata": {},
   "source": [
    "### Support functions"
   ]
  },
  {
   "cell_type": "markdown",
   "metadata": {},
   "source": [
    "Let´s start defining how the freight_cost is calculated"
   ]
  },
  {
   "cell_type": "code",
   "execution_count": 340,
   "metadata": {},
   "outputs": [],
   "source": [
    "def matrix_freight_cost_calculator(quantity, freight_matrix):\n",
    "    return np.reshape(quantity, (-1, 5))*freight_matrix"
   ]
  },
  {
   "cell_type": "code",
   "execution_count": 361,
   "metadata": {},
   "outputs": [],
   "source": [
    "def total_freight_cost_calculator(matrix):\n",
    "    return np.sum(matrix.values)"
   ]
  },
  {
   "cell_type": "code",
   "execution_count": 342,
   "metadata": {},
   "outputs": [],
   "source": [
    "def matrix_base_cost_calculator(quantity,base_cost):\n",
    "    return np.reshape(quantity, (-1, 5))*base_cost"
   ]
  },
  {
   "cell_type": "code",
   "execution_count": 343,
   "metadata": {},
   "outputs": [],
   "source": [
    "def total_base_cost_calculator(matrix):      \n",
    "    return np.sum(matrix)"
   ]
  },
  {
   "cell_type": "markdown",
   "metadata": {},
   "source": [
    "### Conditions"
   ]
  },
  {
   "cell_type": "markdown",
   "metadata": {},
   "source": [
    "If BC Supply <19000 tons, then we incur a penalty of $125/MT"
   ]
  },
  {
   "cell_type": "code",
   "execution_count": 346,
   "metadata": {},
   "outputs": [],
   "source": [
    "def bc_supply_penalty(quantity):\n",
    "    # BC supplyers are the first 3 columns of the matrix\n",
    "    # We will sum them and apply the above rule if the result is < 19000\n",
    "    bc_quantity= np.sum(np.reshape(quantity, (-1, 5))[:,:3])\n",
    "    return bc_quantity*125 if bc_quantity <19000 else 0"
   ]
  },
  {
   "cell_type": "markdown",
   "metadata": {},
   "source": [
    "Supplies to China from outside of South East Asia, incurs an import duty of 15%"
   ]
  },
  {
   "cell_type": "code",
   "execution_count": 246,
   "metadata": {},
   "outputs": [],
   "source": [
    "def china_tax(calculated_freight_matrix,base_cost_matrix):\n",
    "    # The only supplier outside South East Asia is ADM Amsterdam\n",
    "    # The tax will be calculated over the freight cost + base cost for that supplier to Chine\n",
    "    # The position of this supplyer to China on the calculated_freigh_matrix and base_cost_matrix is 8,4 (9th row, 5th column)\n",
    "    return ((calculated_freight_matrix.values[8,4])+(base_cost_matrix[8,4]))*0.15"
   ]
  },
  {
   "cell_type": "markdown",
   "metadata": {},
   "source": [
    "Suppliers to \"AP - China\" from outside of South East Asia, incurs an import duty of 18%"
   ]
  },
  {
   "cell_type": "code",
   "execution_count": 248,
   "metadata": {},
   "outputs": [],
   "source": [
    "def ap_china_tax(calculated_freight_matrix,base_cost_matrix):\n",
    "    # The only supplier outside South East Asia is ADM Amsterdam\n",
    "    # The tax will be calculated over the freight cost + base cost for that supplier to Chine\n",
    "    # The position of this supplyer to AP-China on the calculated_freigh_matrix and base_cost_matrix is 7,4 (8th row, 5th column)\n",
    "    return (calculated_freight_matrix.values[7,4]+base_cost_matrix[7,4])*0.18"
   ]
  },
  {
   "cell_type": "markdown",
   "metadata": {},
   "source": [
    "If EU is supplied from Asia based suppliers, there is an import duty of 8%."
   ]
  },
  {
   "cell_type": "code",
   "execution_count": 249,
   "metadata": {},
   "outputs": [],
   "source": [
    "def eu_asia_tax(calculated_freight_matrix,base_cost_matrix):\n",
    "    # EU is in row 4 of the matrix (5th line)\n",
    "    # Asia based suppliers are columns 0 to 3 (4 columns)\n",
    "    return np.sum((calculated_freight_matrix.values[4,:3]+base_cost_matrix[4,:3]))*0.08"
   ]
  },
  {
   "cell_type": "markdown",
   "metadata": {},
   "source": [
    "### Time to sum all taxes"
   ]
  },
  {
   "cell_type": "code",
   "execution_count": 251,
   "metadata": {},
   "outputs": [],
   "source": [
    "def all_taxes_calculator(quantity,calculated_freight_matrix,base_cost_matrix):\n",
    "    results=[]\n",
    "    results.append(bc_supply_penalty(quantity))\n",
    "    results.append(china_tax(calculated_freight_matrix,base_cost_matrix))\n",
    "    results.append(ap_china_tax(calculated_freight_matrix,base_cost_matrix))\n",
    "    results.append(eu_asia_tax(calculated_freight_matrix,base_cost_matrix))\n",
    "    return np.sum(results)"
   ]
  },
  {
   "cell_type": "code",
   "execution_count": 252,
   "metadata": {},
   "outputs": [],
   "source": [
    "taxes = all_taxes_calculator(quantity,\n",
    "                             matrix_freight_cost_calculator(quantity, freight_matrix),\n",
    "                             matrix_base_cost_calculator(quantity,base_cost))"
   ]
  },
  {
   "cell_type": "code",
   "execution_count": 253,
   "metadata": {},
   "outputs": [],
   "source": [
    "base = total_base_cost_calculator(matrix_base_cost_calculator(quantity,base_cost))"
   ]
  },
  {
   "cell_type": "code",
   "execution_count": 254,
   "metadata": {},
   "outputs": [],
   "source": [
    "freight = total_freight_cost_calculator(matrix_freight_cost_calculator(quantity, freight_matrix))"
   ]
  },
  {
   "cell_type": "markdown",
   "metadata": {},
   "source": [
    "### Constraints"
   ]
  },
  {
   "cell_type": "markdown",
   "metadata": {},
   "source": [
    "#### Demand Constraints"
   ]
  },
  {
   "cell_type": "code",
   "execution_count": 308,
   "metadata": {},
   "outputs": [
    {
     "data": {
      "text/plain": [
       "array([[0., 0., 0., 0., 0.],\n",
       "       [0., 0., 0., 0., 0.],\n",
       "       [0., 0., 0., 0., 0.],\n",
       "       [0., 0., 0., 0., 0.],\n",
       "       [0., 0., 0., 0., 0.],\n",
       "       [0., 0., 0., 0., 0.],\n",
       "       [0., 0., 0., 0., 0.],\n",
       "       [0., 0., 0., 0., 0.],\n",
       "       [0., 0., 0., 0., 0.]])"
      ]
     },
     "execution_count": 308,
     "metadata": {},
     "output_type": "execute_result"
    }
   ],
   "source": [
    "quantity"
   ]
  },
  {
   "cell_type": "code",
   "execution_count": 321,
   "metadata": {},
   "outputs": [],
   "source": [
    "def constraint1(quantity):\n",
    "    q = np.reshape(quantity, (-1, 5))    \n",
    "    return q.sum(axis=1)[0]-4080"
   ]
  },
  {
   "cell_type": "code",
   "execution_count": 322,
   "metadata": {},
   "outputs": [],
   "source": [
    "def constraint2(quantity):\n",
    "    q = np.reshape(quantity, (-1, 5))   \n",
    "    return q.sum(axis=1)[1]-1121"
   ]
  },
  {
   "cell_type": "code",
   "execution_count": 323,
   "metadata": {},
   "outputs": [],
   "source": [
    "def constraint3(quantity):\n",
    "    q = np.reshape(quantity, (-1, 5))   \n",
    "    return q.sum(axis=1)[2]-624"
   ]
  },
  {
   "cell_type": "code",
   "execution_count": 324,
   "metadata": {},
   "outputs": [],
   "source": [
    "def constraint4(quantity):\n",
    "    q = np.reshape(quantity, (-1, 5))   \n",
    "    return q.sum(axis=1)[3]-5585"
   ]
  },
  {
   "cell_type": "code",
   "execution_count": 325,
   "metadata": {},
   "outputs": [],
   "source": [
    "def constraint5(quantity):\n",
    "    q = np.reshape(quantity, (-1, 5))   \n",
    "    return q.sum(axis=1)[4]-4607"
   ]
  },
  {
   "cell_type": "code",
   "execution_count": 326,
   "metadata": {},
   "outputs": [],
   "source": [
    "def constraint6(quantity):\n",
    "    q = np.reshape(quantity, (-1, 5))   \n",
    "    return q.sum(axis=1)[5]-0"
   ]
  },
  {
   "cell_type": "code",
   "execution_count": 327,
   "metadata": {},
   "outputs": [],
   "source": [
    "def constraint7(quantity):\n",
    "    q = np.reshape(quantity, (-1, 5))   \n",
    "    return q.sum(axis=1)[6]-1703"
   ]
  },
  {
   "cell_type": "code",
   "execution_count": 328,
   "metadata": {},
   "outputs": [],
   "source": [
    "def constraint8(quantity):\n",
    "    q = np.reshape(quantity, (-1, 5))   \n",
    "    return q.sum(axis=1)[7]-3571"
   ]
  },
  {
   "cell_type": "code",
   "execution_count": 329,
   "metadata": {},
   "outputs": [],
   "source": [
    "def constraint9(quantity):\n",
    "    q = np.reshape(quantity, (-1, 5))   \n",
    "    return q.sum(axis=1)[8]-5345"
   ]
  },
  {
   "cell_type": "markdown",
   "metadata": {},
   "source": [
    "#### Capacity Constraints"
   ]
  },
  {
   "cell_type": "code",
   "execution_count": 330,
   "metadata": {},
   "outputs": [],
   "source": [
    "def constraint10(quantity):\n",
    "    q = np.reshape(quantity, (-1, 5))   \n",
    "    return 12480-q.sum(axis=0)[0]"
   ]
  },
  {
   "cell_type": "code",
   "execution_count": 331,
   "metadata": {},
   "outputs": [],
   "source": [
    "def constraint11(quantity):\n",
    "    q = np.reshape(quantity, (-1, 5))   \n",
    "    return 7200-q.sum(axis=0)[1]"
   ]
  },
  {
   "cell_type": "code",
   "execution_count": 332,
   "metadata": {},
   "outputs": [],
   "source": [
    "def constraint12(quantity):\n",
    "    q = np.reshape(quantity, (-1, 5))   \n",
    "    return 7200-q.sum(axis=0)[2]"
   ]
  },
  {
   "cell_type": "code",
   "execution_count": 333,
   "metadata": {},
   "outputs": [],
   "source": [
    "def constraint13(quantity):\n",
    "    q = np.reshape(quantity, (-1, 5))   \n",
    "    return 7500-q.sum(axis=0)[3]"
   ]
  },
  {
   "cell_type": "code",
   "execution_count": 334,
   "metadata": {},
   "outputs": [],
   "source": [
    "def constraint14(quantity):\n",
    "    q = np.reshape(quantity, (-1, 5))   \n",
    "    return 6000-q.sum(axis=0)[4]"
   ]
  },
  {
   "cell_type": "code",
   "execution_count": 426,
   "metadata": {},
   "outputs": [],
   "source": [
    "# def constraint15(quantity):\n",
    "#     validator = True\n",
    "#     for item in quantity: \n",
    "#         validator=validator and max([item-int(item)])==0\n",
    "#     return 0 if validator else 100"
   ]
  },
  {
   "cell_type": "code",
   "execution_count": 427,
   "metadata": {},
   "outputs": [],
   "source": [
    "con1 = {'type':'ineq', 'fun':constraint1}\n",
    "con2 = {'type':'ineq', 'fun':constraint2}\n",
    "con3 = {'type':'ineq', 'fun':constraint3}\n",
    "con4 = {'type':'ineq', 'fun':constraint4}\n",
    "con5 = {'type':'ineq', 'fun':constraint5}\n",
    "con6 = {'type':'ineq', 'fun':constraint6}\n",
    "con7 = {'type':'ineq', 'fun':constraint7}\n",
    "con8 = {'type':'ineq', 'fun':constraint8}\n",
    "con9 = {'type':'ineq', 'fun':constraint9}\n",
    "con10 = {'type':'ineq', 'fun':constraint10}\n",
    "con11 = {'type':'ineq', 'fun':constraint11}\n",
    "con12 = {'type':'ineq', 'fun':constraint12}\n",
    "con13 = {'type':'ineq', 'fun':constraint13}\n",
    "con14 = {'type':'ineq', 'fun':constraint14}\n",
    "# con15 = {'type':'eq', 'fun':constraint15}"
   ]
  },
  {
   "cell_type": "code",
   "execution_count": 428,
   "metadata": {},
   "outputs": [],
   "source": [
    "cons=[con1,con2,con3,con4,con5,con6,con7,\n",
    "     con8,con9,con10,con11,con12,con13,con14]"
   ]
  },
  {
   "cell_type": "code",
   "execution_count": 429,
   "metadata": {},
   "outputs": [],
   "source": [
    "b=(0., None)\n",
    "bnds=(b,b,b,b,b,\n",
    "      b,b,b,b,b,\n",
    "      b,b,b,b,b,\n",
    "      b,b,b,b,b,\n",
    "      b,b,b,b,b,\n",
    "      b,b,b,b,b,\n",
    "      b,b,b,b,b,\n",
    "      b,b,b,b,b,\n",
    "      b,b,b,b,b)"
   ]
  },
  {
   "cell_type": "code",
   "execution_count": 430,
   "metadata": {},
   "outputs": [],
   "source": [
    "def objective_calculator(quantity,freight_matrix,base_cost):\n",
    "    taxes = all_taxes_calculator(quantity,\n",
    "                             matrix_freight_cost_calculator(quantity, freight_matrix),\n",
    "                             matrix_base_cost_calculator(quantity,base_cost))\n",
    "    base = total_base_cost_calculator(matrix_base_cost_calculator(quantity,base_cost))\n",
    "    freight = total_freight_cost_calculator(matrix_freight_cost_calculator(quantity, freight_matrix))\n",
    "    return base+freight+taxes"
   ]
  },
  {
   "cell_type": "code",
   "execution_count": null,
   "metadata": {},
   "outputs": [],
   "source": []
  },
  {
   "cell_type": "code",
   "execution_count": 431,
   "metadata": {
    "scrolled": true
   },
   "outputs": [
    {
     "data": {
      "text/plain": [
       "     fun: 100993832.06330536\n",
       "     jac: array([3732., 4307., 4307., 3976., 3398., 3732., 4307., 4307., 3976.,\n",
       "       3398., 4132., 4307., 4307., 4036., 3398., 4241., 4512., 4512.,\n",
       "       4186., 3578., 3981., 4544., 4544., 3986., 3328., 3784., 4108.,\n",
       "       4108., 3877., 3340., 3741., 4177., 4177., 4086., 3358., 3871.,\n",
       "       4127., 4127., 3896., 4163., 3921., 4127., 4127., 3896., 4172.])\n",
       " message: 'Positive directional derivative for linesearch'\n",
       "    nfev: 1271\n",
       "     nit: 31\n",
       "    njev: 27\n",
       "  status: 8\n",
       " success: False\n",
       "       x: array([4079.99891   ,    0.        ,    0.        ,    0.        ,\n",
       "          0.        , 1120.99891   ,    0.        ,    0.        ,\n",
       "          0.        ,    0.        ,    0.        ,    0.        ,\n",
       "          0.        ,    0.        ,  623.99900755,    0.        ,\n",
       "          0.        ,    0.        , 4815.99877744,  768.99895494,\n",
       "          0.        ,    0.        ,    0.        ,    0.        ,\n",
       "       4606.99902799,    0.        ,    0.        ,    0.        ,\n",
       "          0.        ,    0.        , 1702.99890736,    0.        ,\n",
       "          0.        ,    0.        ,    0.        , 3570.9988694 ,\n",
       "          0.        ,    0.        ,    0.        ,    0.        ,\n",
       "       2004.99885478,  327.99879465,  327.99879466, 2683.99886205,\n",
       "          0.        ])"
      ]
     },
     "execution_count": 431,
     "metadata": {},
     "output_type": "execute_result"
    }
   ],
   "source": [
    "minimize(objective_calculator,quantity,method='SLSQP', constraints=cons ,bounds=bnds,args=(freight_matrix,base_cost))"
   ]
  },
  {
   "cell_type": "markdown",
   "metadata": {},
   "source": [
    "## Scipy SLSQP doesn´t have an integer optimizator, so we will try a different one"
   ]
  },
  {
   "cell_type": "code",
   "execution_count": 450,
   "metadata": {},
   "outputs": [],
   "source": [
    "import pulp"
   ]
  },
  {
   "cell_type": "code",
   "execution_count": 451,
   "metadata": {},
   "outputs": [],
   "source": [
    "# create the LP object, set up as a minimization problem\n",
    "prob = pulp.LpProblem('Cost Supply Network', pulp.LpMinimize)"
   ]
  },
  {
   "cell_type": "code",
   "execution_count": 452,
   "metadata": {},
   "outputs": [],
   "source": [
    "supplyer=['BC San Pedro','BC Malaysia','BC Pasir Gudang','ADM Singapore','ADM Amsterdam']\n",
    "demand=['East Coast BB','East Coast SB','West Coast BB','Salinas BB','EU','EEMEA','LA','AP - China','China']"
   ]
  },
  {
   "cell_type": "code",
   "execution_count": 467,
   "metadata": {},
   "outputs": [],
   "source": [
    "vars=[]\n",
    "for s in supplyer:\n",
    "    s=s.replace(' ','_')\n",
    "    for d in demand:\n",
    "        d=d.replace(' ','_')        \n",
    "        d=d.replace('-','')\n",
    "        d=d.replace('__','_')\n",
    "        vars.append(d)"
   ]
  },
  {
   "cell_type": "code",
   "execution_count": 466,
   "metadata": {},
   "outputs": [],
   "source": [
    "BC_San_Pedro_to_East_Coast_BB=pulp.LpVariable('BC_San_Pedro_to_East_Coast_BB', lowBound=0, cat='Integer')\n",
    "BC_San_Pedro_to_East_Coast_SB=pulp.LpVariable('BC_San_Pedro_to_East_Coast_SB', lowBound=0, cat='Integer')\n",
    "BC_San_Pedro_to_West_Coast_BB=pulp.LpVariable('BC_San_Pedro_to_West_Coast_BB', lowBound=0, cat='Integer')\n",
    "BC_San_Pedro_to_Salinas_BB=pulp.LpVariable('BC_San_Pedro_to_Salinas_BB', lowBound=0, cat='Integer')\n",
    "BC_San_Pedro_to_EU=pulp.LpVariable('BC_San_Pedro_to_EU', lowBound=0, cat='Integer')\n",
    "BC_San_Pedro_to_EEMEA=pulp.LpVariable('BC_San_Pedro_to_EEMEA', lowBound=0, cat='Integer')\n",
    "BC_San_Pedro_to_LA=pulp.LpVariable('BC_San_Pedro_to_LA', lowBound=0, cat='Integer')\n",
    "BC_San_Pedro_to_AP_China=pulp.LpVariable('BC_San_Pedro_to_AP_China', lowBound=0, cat='Integer')\n",
    "BC_San_Pedro_to_China=pulp.LpVariable('BC_San_Pedro_to_China', lowBound=0, cat='Integer')\n",
    "BC_Malaysia_to_East_Coast_BB=pulp.LpVariable('BC_Malaysia_to_East_Coast_BB', lowBound=0, cat='Integer')\n",
    "BC_Malaysia_to_East_Coast_SB=pulp.LpVariable('BC_Malaysia_to_East_Coast_SB', lowBound=0, cat='Integer')\n",
    "BC_Malaysia_to_West_Coast_BB=pulp.LpVariable('BC_Malaysia_to_West_Coast_BB', lowBound=0, cat='Integer')\n",
    "BC_Malaysia_to_Salinas_BB=pulp.LpVariable('BC_Malaysia_to_Salinas_BB', lowBound=0, cat='Integer')\n",
    "BC_Malaysia_to_EU=pulp.LpVariable('BC_Malaysia_to_EU', lowBound=0, cat='Integer')\n",
    "BC_Malaysia_to_EEMEA=pulp.LpVariable('BC_Malaysia_to_EEMEA', lowBound=0, cat='Integer')\n",
    "BC_Malaysia_to_LA=pulp.LpVariable('BC_Malaysia_to_LA', lowBound=0, cat='Integer')\n",
    "BC_Malaysia_to_AP_China=pulp.LpVariable('BC_Malaysia_to_AP_China', lowBound=0, cat='Integer')\n",
    "BC_Malaysia_to_China=pulp.LpVariable('BC_Malaysia_to_China', lowBound=0, cat='Integer')\n",
    "BC_Pasir_Gudang_to_East_Coast_BB=pulp.LpVariable('BC_Pasir_Gudang_to_East_Coast_BB', lowBound=0, cat='Integer')\n",
    "BC_Pasir_Gudang_to_East_Coast_SB=pulp.LpVariable('BC_Pasir_Gudang_to_East_Coast_SB', lowBound=0, cat='Integer')\n",
    "BC_Pasir_Gudang_to_West_Coast_BB=pulp.LpVariable('BC_Pasir_Gudang_to_West_Coast_BB', lowBound=0, cat='Integer')\n",
    "BC_Pasir_Gudang_to_Salinas_BB=pulp.LpVariable('BC_Pasir_Gudang_to_Salinas_BB', lowBound=0, cat='Integer')\n",
    "BC_Pasir_Gudang_to_EU=pulp.LpVariable('BC_Pasir_Gudang_to_EU', lowBound=0, cat='Integer')\n",
    "BC_Pasir_Gudang_to_EEMEA=pulp.LpVariable('BC_Pasir_Gudang_to_EEMEA', lowBound=0, cat='Integer')\n",
    "BC_Pasir_Gudang_to_LA=pulp.LpVariable('BC_Pasir_Gudang_to_LA', lowBound=0, cat='Integer')\n",
    "BC_Pasir_Gudang_to_AP_China=pulp.LpVariable('BC_Pasir_Gudang_to_AP_China', lowBound=0, cat='Integer')\n",
    "BC_Pasir_Gudang_to_China=pulp.LpVariable('BC_Pasir_Gudang_to_China', lowBound=0, cat='Integer')\n",
    "ADM_Singapore_to_East_Coast_BB=pulp.LpVariable('ADM_Singapore_to_East_Coast_BB', lowBound=0, cat='Integer')\n",
    "ADM_Singapore_to_East_Coast_SB=pulp.LpVariable('ADM_Singapore_to_East_Coast_SB', lowBound=0, cat='Integer')\n",
    "ADM_Singapore_to_West_Coast_BB=pulp.LpVariable('ADM_Singapore_to_West_Coast_BB', lowBound=0, cat='Integer')\n",
    "ADM_Singapore_to_Salinas_BB=pulp.LpVariable('ADM_Singapore_to_Salinas_BB', lowBound=0, cat='Integer')\n",
    "ADM_Singapore_to_EU=pulp.LpVariable('ADM_Singapore_to_EU', lowBound=0, cat='Integer')\n",
    "ADM_Singapore_to_EEMEA=pulp.LpVariable('ADM_Singapore_to_EEMEA', lowBound=0, cat='Integer')\n",
    "ADM_Singapore_to_LA=pulp.LpVariable('ADM_Singapore_to_LA', lowBound=0, cat='Integer')\n",
    "ADM_Singapore_to_AP_China=pulp.LpVariable('ADM_Singapore_to_AP_China', lowBound=0, cat='Integer')\n",
    "ADM_Singapore_to_China=pulp.LpVariable('ADM_Singapore_to_China', lowBound=0, cat='Integer')\n",
    "ADM_Amsterdam_to_East_Coast_BB=pulp.LpVariable('ADM_Amsterdam_to_East_Coast_BB', lowBound=0, cat='Integer')\n",
    "ADM_Amsterdam_to_East_Coast_SB=pulp.LpVariable('ADM_Amsterdam_to_East_Coast_SB', lowBound=0, cat='Integer')\n",
    "ADM_Amsterdam_to_West_Coast_BB=pulp.LpVariable('ADM_Amsterdam_to_West_Coast_BB', lowBound=0, cat='Integer')\n",
    "ADM_Amsterdam_to_Salinas_BB=pulp.LpVariable('ADM_Amsterdam_to_Salinas_BB', lowBound=0, cat='Integer')\n",
    "ADM_Amsterdam_to_EU=pulp.LpVariable('ADM_Amsterdam_to_EU', lowBound=0, cat='Integer')\n",
    "ADM_Amsterdam_to_EEMEA=pulp.LpVariable('ADM_Amsterdam_to_EEMEA', lowBound=0, cat='Integer')\n",
    "ADM_Amsterdam_to_LA=pulp.LpVariable('ADM_Amsterdam_to_LA', lowBound=0, cat='Integer')\n",
    "ADM_Amsterdam_to_AP_China=pulp.LpVariable('ADM_Amsterdam_to_AP_China', lowBound=0, cat='Integer')\n",
    "ADM_Amsterdam_to_China=pulp.LpVariable('ADM_Amsterdam_to_China', lowBound=0, cat='Integer')\n"
   ]
  },
  {
   "cell_type": "code",
   "execution_count": 476,
   "metadata": {},
   "outputs": [],
   "source": [
    "x = pulp.LpVariable.dicts(\"x\", range(45), lowBound=0, cat=\"Integer\")"
   ]
  },
  {
   "cell_type": "code",
   "execution_count": 477,
   "metadata": {},
   "outputs": [
    {
     "data": {
      "text/plain": [
       "{0: x_0,\n",
       " 1: x_1,\n",
       " 2: x_2,\n",
       " 3: x_3,\n",
       " 4: x_4,\n",
       " 5: x_5,\n",
       " 6: x_6,\n",
       " 7: x_7,\n",
       " 8: x_8,\n",
       " 9: x_9,\n",
       " 10: x_10,\n",
       " 11: x_11,\n",
       " 12: x_12,\n",
       " 13: x_13,\n",
       " 14: x_14,\n",
       " 15: x_15,\n",
       " 16: x_16,\n",
       " 17: x_17,\n",
       " 18: x_18,\n",
       " 19: x_19,\n",
       " 20: x_20,\n",
       " 21: x_21,\n",
       " 22: x_22,\n",
       " 23: x_23,\n",
       " 24: x_24,\n",
       " 25: x_25,\n",
       " 26: x_26,\n",
       " 27: x_27,\n",
       " 28: x_28,\n",
       " 29: x_29,\n",
       " 30: x_30,\n",
       " 31: x_31,\n",
       " 32: x_32,\n",
       " 33: x_33,\n",
       " 34: x_34,\n",
       " 35: x_35,\n",
       " 36: x_36,\n",
       " 37: x_37,\n",
       " 38: x_38,\n",
       " 39: x_39,\n",
       " 40: x_40,\n",
       " 41: x_41,\n",
       " 42: x_42,\n",
       " 43: x_43,\n",
       " 44: x_44}"
      ]
     },
     "execution_count": 477,
     "metadata": {},
     "output_type": "execute_result"
    }
   ],
   "source": [
    "x"
   ]
  },
  {
   "cell_type": "code",
   "execution_count": null,
   "metadata": {},
   "outputs": [],
   "source": []
  },
  {
   "cell_type": "code",
   "execution_count": 446,
   "metadata": {},
   "outputs": [
    {
     "data": {
      "text/plain": [
       "array([0, 1, 2])"
      ]
     },
     "execution_count": 446,
     "metadata": {},
     "output_type": "execute_result"
    }
   ],
   "source": [
    "np.arange(3)"
   ]
  },
  {
   "cell_type": "code",
   "execution_count": 443,
   "metadata": {
    "scrolled": true
   },
   "outputs": [
    {
     "data": {
      "text/plain": [
       "array([0., 0., 0., 0., 0., 0., 0., 0., 0., 0., 0., 0., 0., 0., 0., 0., 0.,\n",
       "       0., 0., 0., 0., 0., 0., 0., 0., 0., 0., 0., 0., 0., 0., 0., 0., 0.,\n",
       "       0., 0., 0., 0., 0., 0., 0., 0., 0., 0., 0.])"
      ]
     },
     "execution_count": 443,
     "metadata": {},
     "output_type": "execute_result"
    }
   ],
   "source": [
    "quantity.flatten()"
   ]
  },
  {
   "cell_type": "code",
   "execution_count": 449,
   "metadata": {},
   "outputs": [
    {
     "ename": "SyntaxError",
     "evalue": "positional argument follows keyword argument (<ipython-input-449-b8be25abad6d>, line 1)",
     "output_type": "error",
     "traceback": [
      "\u001b[1;36m  File \u001b[1;32m\"<ipython-input-449-b8be25abad6d>\"\u001b[1;36m, line \u001b[1;32m1\u001b[0m\n\u001b[1;33m    cp.Variable(shape=(9,5), quantity)\u001b[0m\n\u001b[1;37m                            ^\u001b[0m\n\u001b[1;31mSyntaxError\u001b[0m\u001b[1;31m:\u001b[0m positional argument follows keyword argument\n"
     ]
    }
   ],
   "source": [
    "cp.Variable(shape=(9,5), quantity)"
   ]
  },
  {
   "cell_type": "code",
   "execution_count": null,
   "metadata": {},
   "outputs": [],
   "source": []
  },
  {
   "cell_type": "code",
   "execution_count": null,
   "metadata": {},
   "outputs": [],
   "source": []
  },
  {
   "cell_type": "code",
   "execution_count": null,
   "metadata": {},
   "outputs": [],
   "source": [
    "# Construct the problem.\n",
    "x = cp.Variable(n)\n",
    "objective = cp.Minimize(cp.sum_squares(A*x - b))\n",
    "constraints = [0 <= x, x <= 1]\n",
    "prob = cp.Problem(objective, constraints)\n",
    "\n",
    "# The optimal objective value is returned by `prob.solve()`.\n",
    "result = prob.solve()\n",
    "# The optimal value for x is stored in `x.value`.\n",
    "print(x.value)\n",
    "# The optimal Lagrange multiplier for a constraint is stored in\n",
    "# `constraint.dual_value`.\n",
    "print(constraints[0].dual_value)"
   ]
  },
  {
   "cell_type": "code",
   "execution_count": null,
   "metadata": {},
   "outputs": [],
   "source": []
  },
  {
   "cell_type": "code",
   "execution_count": null,
   "metadata": {},
   "outputs": [],
   "source": []
  },
  {
   "cell_type": "code",
   "execution_count": null,
   "metadata": {},
   "outputs": [],
   "source": []
  },
  {
   "cell_type": "code",
   "execution_count": 424,
   "metadata": {},
   "outputs": [
    {
     "data": {
      "text/plain": [
       "array([0., 0., 0., 0., 0., 0., 0., 0., 0., 0., 0., 0., 0., 0., 0., 0., 0.,\n",
       "       0., 0., 0., 0., 0., 0., 0., 0., 0., 0., 0., 0., 0., 0., 0., 0., 0.,\n",
       "       0., 0., 0., 0., 0., 0., 0., 0., 0., 0., 0.])"
      ]
     },
     "execution_count": 424,
     "metadata": {},
     "output_type": "execute_result"
    }
   ],
   "source": [
    "result['x']"
   ]
  },
  {
   "cell_type": "code",
   "execution_count": 410,
   "metadata": {},
   "outputs": [
    {
     "data": {
      "text/plain": [
       "False"
      ]
     },
     "execution_count": 410,
     "metadata": {},
     "output_type": "execute_result"
    }
   ],
   "source": [
    "result['success']"
   ]
  },
  {
   "cell_type": "code",
   "execution_count": null,
   "metadata": {},
   "outputs": [],
   "source": []
  },
  {
   "cell_type": "code",
   "execution_count": 138,
   "metadata": {},
   "outputs": [],
   "source": [
    "prob = LpProblem(\"costSupplyNetwork\", LpMinimize)"
   ]
  },
  {
   "cell_type": "code",
   "execution_count": 162,
   "metadata": {},
   "outputs": [],
   "source": [
    "suppliers = range(5)\n",
    "destiny = range(9)\n",
    "\n",
    "var = LpVariable.dicts(\"\", ((i, j) for i in suppliers for j in destiny),cat='Continuous')"
   ]
  },
  {
   "cell_type": "code",
   "execution_count": 163,
   "metadata": {},
   "outputs": [
    {
     "data": {
      "text/plain": [
       "{(0, 0): _(0,_0),\n",
       " (0, 1): _(0,_1),\n",
       " (0, 2): _(0,_2),\n",
       " (0, 3): _(0,_3),\n",
       " (0, 4): _(0,_4),\n",
       " (0, 5): _(0,_5),\n",
       " (0, 6): _(0,_6),\n",
       " (0, 7): _(0,_7),\n",
       " (0, 8): _(0,_8),\n",
       " (1, 0): _(1,_0),\n",
       " (1, 1): _(1,_1),\n",
       " (1, 2): _(1,_2),\n",
       " (1, 3): _(1,_3),\n",
       " (1, 4): _(1,_4),\n",
       " (1, 5): _(1,_5),\n",
       " (1, 6): _(1,_6),\n",
       " (1, 7): _(1,_7),\n",
       " (1, 8): _(1,_8),\n",
       " (2, 0): _(2,_0),\n",
       " (2, 1): _(2,_1),\n",
       " (2, 2): _(2,_2),\n",
       " (2, 3): _(2,_3),\n",
       " (2, 4): _(2,_4),\n",
       " (2, 5): _(2,_5),\n",
       " (2, 6): _(2,_6),\n",
       " (2, 7): _(2,_7),\n",
       " (2, 8): _(2,_8),\n",
       " (3, 0): _(3,_0),\n",
       " (3, 1): _(3,_1),\n",
       " (3, 2): _(3,_2),\n",
       " (3, 3): _(3,_3),\n",
       " (3, 4): _(3,_4),\n",
       " (3, 5): _(3,_5),\n",
       " (3, 6): _(3,_6),\n",
       " (3, 7): _(3,_7),\n",
       " (3, 8): _(3,_8),\n",
       " (4, 0): _(4,_0),\n",
       " (4, 1): _(4,_1),\n",
       " (4, 2): _(4,_2),\n",
       " (4, 3): _(4,_3),\n",
       " (4, 4): _(4,_4),\n",
       " (4, 5): _(4,_5),\n",
       " (4, 6): _(4,_6),\n",
       " (4, 7): _(4,_7),\n",
       " (4, 8): _(4,_8)}"
      ]
     },
     "execution_count": 163,
     "metadata": {},
     "output_type": "execute_result"
    }
   ],
   "source": [
    "var"
   ]
  },
  {
   "cell_type": "code",
   "execution_count": null,
   "metadata": {},
   "outputs": [],
   "source": []
  },
  {
   "cell_type": "code",
   "execution_count": null,
   "metadata": {},
   "outputs": [],
   "source": []
  },
  {
   "cell_type": "code",
   "execution_count": 142,
   "metadata": {},
   "outputs": [],
   "source": [
    "quantity = LpVariable()"
   ]
  },
  {
   "cell_type": "code",
   "execution_count": 143,
   "metadata": {},
   "outputs": [
    {
     "data": {
      "text/plain": [
       "[quantity_3, quantity_4]"
      ]
     },
     "execution_count": 143,
     "metadata": {},
     "output_type": "execute_result"
    }
   ],
   "source": [
    "quantity"
   ]
  },
  {
   "cell_type": "code",
   "execution_count": 134,
   "metadata": {},
   "outputs": [],
   "source": [
    "results=[]\n",
    "results.append(bc_supply_penalty(quantity))\n",
    "results.append(china_tax(calculated_freight_matrix,base_cost_matrix))\n",
    "results.append(ap_china_tax(calculated_freight_matrix,base_cost_matrix))\n",
    "results.append(eu_asia_tax(calculated_freight_matrix,base_cost_matrix))"
   ]
  },
  {
   "cell_type": "code",
   "execution_count": 135,
   "metadata": {},
   "outputs": [
    {
     "data": {
      "text/plain": [
       "4"
      ]
     },
     "execution_count": 135,
     "metadata": {},
     "output_type": "execute_result"
    }
   ],
   "source": [
    "np.sum(results)"
   ]
  },
  {
   "cell_type": "code",
   "execution_count": 86,
   "metadata": {},
   "outputs": [],
   "source": [
    "a = np.array([[1,2,3],[3,4,5]])"
   ]
  },
  {
   "cell_type": "code",
   "execution_count": 87,
   "metadata": {},
   "outputs": [
    {
     "data": {
      "text/plain": [
       "array([[1, 2, 3],\n",
       "       [3, 4, 5]])"
      ]
     },
     "execution_count": 87,
     "metadata": {},
     "output_type": "execute_result"
    }
   ],
   "source": [
    "a"
   ]
  },
  {
   "cell_type": "code",
   "execution_count": 89,
   "metadata": {},
   "outputs": [
    {
     "data": {
      "text/plain": [
       "18"
      ]
     },
     "execution_count": 89,
     "metadata": {},
     "output_type": "execute_result"
    }
   ],
   "source": [
    "np.sum(a)"
   ]
  },
  {
   "cell_type": "code",
   "execution_count": 88,
   "metadata": {},
   "outputs": [
    {
     "data": {
      "text/plain": [
       "array([[ 2,  4,  6],\n",
       "       [ 6,  8, 10]])"
      ]
     },
     "execution_count": 88,
     "metadata": {},
     "output_type": "execute_result"
    }
   ],
   "source": [
    "a*np.array([2,2,2])"
   ]
  },
  {
   "cell_type": "code",
   "execution_count": 71,
   "metadata": {},
   "outputs": [
    {
     "data": {
      "text/html": [
       "<div>\n",
       "<style scoped>\n",
       "    .dataframe tbody tr th:only-of-type {\n",
       "        vertical-align: middle;\n",
       "    }\n",
       "\n",
       "    .dataframe tbody tr th {\n",
       "        vertical-align: top;\n",
       "    }\n",
       "\n",
       "    .dataframe thead th {\n",
       "        text-align: right;\n",
       "    }\n",
       "</style>\n",
       "<table border=\"1\" class=\"dataframe\">\n",
       "  <thead>\n",
       "    <tr style=\"text-align: right;\">\n",
       "      <th></th>\n",
       "      <th>Location</th>\n",
       "      <th>Cost ($/MT)</th>\n",
       "    </tr>\n",
       "  </thead>\n",
       "  <tbody>\n",
       "    <tr>\n",
       "      <th>0</th>\n",
       "      <td>BC San Pedro</td>\n",
       "      <td>3496</td>\n",
       "    </tr>\n",
       "    <tr>\n",
       "      <th>1</th>\n",
       "      <td>BC Malaysia</td>\n",
       "      <td>3942</td>\n",
       "    </tr>\n",
       "    <tr>\n",
       "      <th>2</th>\n",
       "      <td>BC Pasir Gudang</td>\n",
       "      <td>3942</td>\n",
       "    </tr>\n",
       "    <tr>\n",
       "      <th>3</th>\n",
       "      <td>Olam Singapore</td>\n",
       "      <td>3836</td>\n",
       "    </tr>\n",
       "    <tr>\n",
       "      <th>4</th>\n",
       "      <td>Olam Holland</td>\n",
       "      <td>3278</td>\n",
       "    </tr>\n",
       "  </tbody>\n",
       "</table>\n",
       "</div>"
      ],
      "text/plain": [
       "          Location  Cost ($/MT)\n",
       "0     BC San Pedro         3496\n",
       "1      BC Malaysia         3942\n",
       "2  BC Pasir Gudang         3942\n",
       "3   Olam Singapore         3836\n",
       "4     Olam Holland         3278"
      ]
     },
     "execution_count": 71,
     "metadata": {},
     "output_type": "execute_result"
    }
   ],
   "source": [
    "base_cost"
   ]
  },
  {
   "cell_type": "code",
   "execution_count": 79,
   "metadata": {},
   "outputs": [
    {
     "data": {
      "text/plain": [
       "0.0"
      ]
     },
     "execution_count": 79,
     "metadata": {},
     "output_type": "execute_result"
    }
   ],
   "source": [
    "base_cost.values[4,1]*quantity[8,4]"
   ]
  },
  {
   "cell_type": "code",
   "execution_count": 80,
   "metadata": {},
   "outputs": [
    {
     "data": {
      "text/plain": [
       "0.0"
      ]
     },
     "execution_count": 80,
     "metadata": {},
     "output_type": "execute_result"
    }
   ],
   "source": [
    "base_cost.loc[base_cost['Location']=='Olam Holland','Cost ($/MT)'].values[0]*quantity[8,4]"
   ]
  },
  {
   "cell_type": "code",
   "execution_count": 70,
   "metadata": {},
   "outputs": [
    {
     "data": {
      "text/plain": [
       "array([[0., 0., 0., 0., 0.],\n",
       "       [0., 0., 0., 0., 0.],\n",
       "       [0., 0., 0., 0., 0.],\n",
       "       [0., 0., 0., 0., 0.],\n",
       "       [0., 0., 0., 0., 0.],\n",
       "       [0., 0., 0., 0., 0.],\n",
       "       [0., 0., 0., 0., 0.],\n",
       "       [0., 0., 0., 0., 0.],\n",
       "       [0., 0., 0., 0., 0.]])"
      ]
     },
     "execution_count": 70,
     "metadata": {},
     "output_type": "execute_result"
    }
   ],
   "source": [
    "quantity"
   ]
  },
  {
   "cell_type": "code",
   "execution_count": 54,
   "metadata": {},
   "outputs": [
    {
     "data": {
      "text/plain": [
       "array([[0., 0., 0.],\n",
       "       [0., 0., 0.],\n",
       "       [0., 0., 0.],\n",
       "       [0., 0., 0.],\n",
       "       [0., 0., 0.],\n",
       "       [0., 0., 0.],\n",
       "       [0., 0., 0.],\n",
       "       [0., 0., 0.],\n",
       "       [0., 0., 0.]])"
      ]
     },
     "execution_count": 54,
     "metadata": {},
     "output_type": "execute_result"
    }
   ],
   "source": [
    "quantity[:,:3]"
   ]
  },
  {
   "cell_type": "code",
   "execution_count": 57,
   "metadata": {},
   "outputs": [],
   "source": [
    "a=np.random.randn(3,4)"
   ]
  },
  {
   "cell_type": "code",
   "execution_count": 58,
   "metadata": {},
   "outputs": [
    {
     "data": {
      "text/plain": [
       "array([[ 0.46860612,  0.64604391,  1.13196826,  0.5475657 ],\n",
       "       [-1.09338983, -0.05767518, -2.59283151,  1.21904741],\n",
       "       [ 0.73649776, -0.02234066,  0.32790399, -1.49935875]])"
      ]
     },
     "execution_count": 58,
     "metadata": {},
     "output_type": "execute_result"
    }
   ],
   "source": [
    "a"
   ]
  },
  {
   "cell_type": "code",
   "execution_count": 66,
   "metadata": {},
   "outputs": [
    {
     "data": {
      "text/plain": [
       "-1.4993587492172424"
      ]
     },
     "execution_count": 66,
     "metadata": {},
     "output_type": "execute_result"
    }
   ],
   "source": [
    "a[2,3]"
   ]
  },
  {
   "cell_type": "code",
   "execution_count": 61,
   "metadata": {},
   "outputs": [
    {
     "data": {
      "text/plain": [
       "0.6777421175707968"
      ]
     },
     "execution_count": 61,
     "metadata": {},
     "output_type": "execute_result"
    }
   ],
   "source": [
    "np.sum(a[:,:2])"
   ]
  },
  {
   "cell_type": "code",
   "execution_count": 51,
   "metadata": {},
   "outputs": [
    {
     "data": {
      "text/html": [
       "<div>\n",
       "<style scoped>\n",
       "    .dataframe tbody tr th:only-of-type {\n",
       "        vertical-align: middle;\n",
       "    }\n",
       "\n",
       "    .dataframe tbody tr th {\n",
       "        vertical-align: top;\n",
       "    }\n",
       "\n",
       "    .dataframe thead th {\n",
       "        text-align: right;\n",
       "    }\n",
       "</style>\n",
       "<table border=\"1\" class=\"dataframe\">\n",
       "  <thead>\n",
       "    <tr style=\"text-align: right;\">\n",
       "      <th></th>\n",
       "      <th>BC San Pedro</th>\n",
       "      <th>BC Malaysia</th>\n",
       "      <th>BC Pasir Gudang</th>\n",
       "      <th>ADM Singapore</th>\n",
       "      <th>ADM Amsterdam</th>\n",
       "    </tr>\n",
       "    <tr>\n",
       "      <th></th>\n",
       "      <th></th>\n",
       "      <th></th>\n",
       "      <th></th>\n",
       "      <th></th>\n",
       "      <th></th>\n",
       "    </tr>\n",
       "  </thead>\n",
       "  <tbody>\n",
       "    <tr>\n",
       "      <th>East Coast BB</th>\n",
       "      <td>0.0</td>\n",
       "      <td>0.0</td>\n",
       "      <td>0.0</td>\n",
       "      <td>0.0</td>\n",
       "      <td>0.0</td>\n",
       "    </tr>\n",
       "    <tr>\n",
       "      <th>East Coast SB</th>\n",
       "      <td>0.0</td>\n",
       "      <td>0.0</td>\n",
       "      <td>0.0</td>\n",
       "      <td>0.0</td>\n",
       "      <td>0.0</td>\n",
       "    </tr>\n",
       "    <tr>\n",
       "      <th>West Coast BB</th>\n",
       "      <td>0.0</td>\n",
       "      <td>0.0</td>\n",
       "      <td>0.0</td>\n",
       "      <td>0.0</td>\n",
       "      <td>0.0</td>\n",
       "    </tr>\n",
       "    <tr>\n",
       "      <th>Salinas BB</th>\n",
       "      <td>0.0</td>\n",
       "      <td>0.0</td>\n",
       "      <td>0.0</td>\n",
       "      <td>0.0</td>\n",
       "      <td>0.0</td>\n",
       "    </tr>\n",
       "    <tr>\n",
       "      <th>EU</th>\n",
       "      <td>0.0</td>\n",
       "      <td>0.0</td>\n",
       "      <td>0.0</td>\n",
       "      <td>0.0</td>\n",
       "      <td>0.0</td>\n",
       "    </tr>\n",
       "    <tr>\n",
       "      <th>EEMEA</th>\n",
       "      <td>0.0</td>\n",
       "      <td>0.0</td>\n",
       "      <td>0.0</td>\n",
       "      <td>0.0</td>\n",
       "      <td>0.0</td>\n",
       "    </tr>\n",
       "    <tr>\n",
       "      <th>LA</th>\n",
       "      <td>0.0</td>\n",
       "      <td>0.0</td>\n",
       "      <td>0.0</td>\n",
       "      <td>0.0</td>\n",
       "      <td>0.0</td>\n",
       "    </tr>\n",
       "    <tr>\n",
       "      <th>AP - China</th>\n",
       "      <td>0.0</td>\n",
       "      <td>0.0</td>\n",
       "      <td>0.0</td>\n",
       "      <td>0.0</td>\n",
       "      <td>0.0</td>\n",
       "    </tr>\n",
       "    <tr>\n",
       "      <th>China</th>\n",
       "      <td>0.0</td>\n",
       "      <td>0.0</td>\n",
       "      <td>0.0</td>\n",
       "      <td>0.0</td>\n",
       "      <td>0.0</td>\n",
       "    </tr>\n",
       "  </tbody>\n",
       "</table>\n",
       "</div>"
      ],
      "text/plain": [
       "               BC San Pedro  BC Malaysia  BC Pasir Gudang  ADM Singapore  \\\n",
       "                                                                           \n",
       "East Coast BB           0.0          0.0              0.0            0.0   \n",
       "East Coast SB           0.0          0.0              0.0            0.0   \n",
       "West Coast BB           0.0          0.0              0.0            0.0   \n",
       "Salinas BB              0.0          0.0              0.0            0.0   \n",
       "EU                      0.0          0.0              0.0            0.0   \n",
       "EEMEA                   0.0          0.0              0.0            0.0   \n",
       "LA                      0.0          0.0              0.0            0.0   \n",
       "AP - China              0.0          0.0              0.0            0.0   \n",
       "China                   0.0          0.0              0.0            0.0   \n",
       "\n",
       "               ADM Amsterdam  \n",
       "                              \n",
       "East Coast BB            0.0  \n",
       "East Coast SB            0.0  \n",
       "West Coast BB            0.0  \n",
       "Salinas BB               0.0  \n",
       "EU                       0.0  \n",
       "EEMEA                    0.0  \n",
       "LA                       0.0  \n",
       "AP - China               0.0  \n",
       "China                    0.0  "
      ]
     },
     "execution_count": 51,
     "metadata": {},
     "output_type": "execute_result"
    }
   ],
   "source": [
    "freight_cost(quantity, freight_matrix)"
   ]
  },
  {
   "cell_type": "code",
   "execution_count": null,
   "metadata": {},
   "outputs": [],
   "source": []
  }
 ],
 "metadata": {
  "kernelspec": {
   "display_name": "Python 3",
   "language": "python",
   "name": "python3"
  },
  "language_info": {
   "codemirror_mode": {
    "name": "ipython",
    "version": 3
   },
   "file_extension": ".py",
   "mimetype": "text/x-python",
   "name": "python",
   "nbconvert_exporter": "python",
   "pygments_lexer": "ipython3",
   "version": "3.7.1"
  }
 },
 "nbformat": 4,
 "nbformat_minor": 2
}
